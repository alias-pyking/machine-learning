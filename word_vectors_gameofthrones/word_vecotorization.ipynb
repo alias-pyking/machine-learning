{
 "cells": [
  {
   "cell_type": "code",
   "execution_count": 31,
   "metadata": {},
   "outputs": [],
   "source": [
    "# fromt __future__ import absolute_import, division, print_function\n",
    "# vectorization\n",
    "import codecs\n",
    "# regex\n",
    "import glob\n",
    "# concurrency\n",
    "import multiprocessing\n",
    "# operating system\n",
    "import os\n",
    "# pretty printing , human readable\n",
    "import pprint\n",
    "\n",
    "# regular expression\n",
    "import re\n",
    "# natural language tool kit\n",
    "import nltk\n",
    "\n",
    "# word to vector\n",
    "import gensim.models.word2vec as wtv\n",
    "# dimensionality reduction\n",
    "\n",
    "import sklearn.manifold \n",
    "\n",
    "# math\n",
    "import numpy as np\n",
    "# data \n",
    "import pandas as pd\n",
    "# data visualization\n",
    "import matplotlib.pyplot as plt\n",
    "\n",
    "import seaborn as sns\n"
   ]
  },
  {
   "cell_type": "code",
   "execution_count": 32,
   "metadata": {},
   "outputs": [
    {
     "name": "stderr",
     "output_type": "stream",
     "text": [
      "[nltk_data] Downloading package punkt to /home/shubhamsks/nltk_data...\n",
      "[nltk_data]   Package punkt is already up-to-date!\n",
      "[nltk_data] Downloading package stopwords to\n",
      "[nltk_data]     /home/shubhamsks/nltk_data...\n",
      "[nltk_data]   Package stopwords is already up-to-date!\n"
     ]
    },
    {
     "data": {
      "text/plain": [
       "True"
      ]
     },
     "execution_count": 32,
     "metadata": {},
     "output_type": "execute_result"
    }
   ],
   "source": [
    "nltk.download('punkt') #pretrained tokenizer\n",
    "nltk.download('stopwords') #stopwords \n"
   ]
  },
  {
   "cell_type": "code",
   "execution_count": 33,
   "metadata": {},
   "outputs": [
    {
     "data": {
      "text/plain": [
       "['./got1.txt', './got2.txt', './got3.txt', './got4.txt', './got5.txt']"
      ]
     },
     "execution_count": 33,
     "metadata": {},
     "output_type": "execute_result"
    }
   ],
   "source": [
    "# get the bookfile names matching txt file\n",
    "book_filenames = sorted(glob.glob('./*.txt'))\n",
    "book_filenames"
   ]
  },
  {
   "cell_type": "code",
   "execution_count": 34,
   "metadata": {},
   "outputs": [],
   "source": [
    "f = open(book_filenames[1],'r')\n"
   ]
  },
  {
   "cell_type": "code",
   "execution_count": 35,
   "metadata": {},
   "outputs": [
    {
     "name": "stdout",
     "output_type": "stream",
     "text": [
      "Reading ./got1.txt ...\n",
      "Corpus  is now 1770659 character long \n",
      "\n",
      "Reading ./got2.txt ...\n",
      "Corpus  is now 4071041 character long \n",
      "\n",
      "Reading ./got3.txt ...\n",
      "Corpus  is now 6391405 character long \n",
      "\n",
      "Reading ./got4.txt ...\n",
      "Corpus  is now 8107945 character long \n",
      "\n",
      "Reading ./got5.txt ...\n",
      "Corpus  is now 9719485 character long \n",
      "\n"
     ]
    }
   ],
   "source": [
    "# Corpus\n",
    "corpus_raw = u\"\"\n",
    "for fname in book_filenames:\n",
    "    print('Reading {0} ...'.format(fname))\n",
    "    with codecs.open(fname,'r','utf-8') as bookfile:\n",
    "        corpus_raw += bookfile.read()\n",
    "    print('Corpus  is now {0} character long '.format(len(corpus_raw)))\n",
    "    print()"
   ]
  },
  {
   "cell_type": "code",
   "execution_count": 36,
   "metadata": {},
   "outputs": [],
   "source": [
    "tokenizer = nltk.data.load('tokenizers/punkt/english.pickle')"
   ]
  },
  {
   "cell_type": "code",
   "execution_count": 37,
   "metadata": {},
   "outputs": [],
   "source": [
    "raw_sentences = tokenizer.tokenize(corpus_raw)\n"
   ]
  },
  {
   "cell_type": "code",
   "execution_count": 38,
   "metadata": {},
   "outputs": [],
   "source": [
    "def sentence_to_word_list(raw):\n",
    "    clean = re.sub(\"[^a-zA-Z]\", \" \", raw)\n",
    "    words = clean.split()\n",
    "    return words"
   ]
  },
  {
   "cell_type": "code",
   "execution_count": 41,
   "metadata": {},
   "outputs": [],
   "source": [
    "# sentences where each word is tokenized\n",
    "sentences = []\n",
    "for raw_sentence in raw_sentences:\n",
    "    if len(raw_sentence) > 0:\n",
    "        sentences.append(sentence_to_word_list(raw_sentence))"
   ]
  },
  {
   "cell_type": "code",
   "execution_count": 43,
   "metadata": {},
   "outputs": [
    {
     "name": "stdout",
     "output_type": "stream",
     "text": [
      "[['This', 'edition', 'contains', 'the', 'complete', 'text', 'of', 'the', 'original', 'hardcover', 'edition'], ['NOT', 'ONE', 'WORD', 'HAS', 'BEEN', 'OMITTED'], ['A', 'CLASH', 'OF', 'KINGS', 'A', 'Bantam', 'Spectra', 'Book', 'PUBLISHING', 'HISTORY', 'Bantam', 'Spectra', 'hardcover', 'edition', 'published', 'February', 'Bantam', 'Spectra', 'paperback', 'edition', 'September', 'SPECTRA', 'and', 'the', 'portrayal', 'of', 'a', 'boxed', 's', 'are', 'trademarks', 'of', 'Bantam', 'Books', 'a', 'division', 'of', 'Random', 'House', 'Inc', 'All', 'rights', 'reserved'], ['Copyright', 'by', 'George', 'R', 'R', 'Martin'], ['Maps', 'by', 'James', 'Sinclair'], ['Heraldic', 'crest', 'by', 'Virginia', 'Norey'], ['Library', 'of', 'Congress', 'Catalog', 'Card', 'Number'], ['No', 'part', 'of', 'this', 'book', 'may', 'be', 'reproduced', 'or', 'transmitted', 'in', 'any', 'form', 'or', 'by', 'any', 'means', 'electronic', 'or', 'mechanical', 'including', 'photocopying', 'recording', 'or', 'by', 'any', 'information', 'storage', 'and', 'retrieval', 'system', 'without', 'permission', 'in', 'writing', 'from', 'the', 'publisher'], ['Visit', 'our', 'website', 'at', 'www', 'bantamdell', 'com', 'Bantam', 'Books', 'the', 'rooster', 'colophon', 'Spectra', 'and', 'the', 'portrayal', 'of', 'a', 'boxed', 's', 'are', 'registered', 'trademarks', 'of', 'Random', 'House', 'Inc', 'eISBN', 'v', 'r', 'CONTENTS', 'COVER', 'TITLE', 'PAGE', 'COPYRIGHT', 'DEDICATION', 'MAPS', 'PROLOGUE', 'ARYA', 'SANSA', 'TYRION', 'BRAN', 'ARYA', 'JON', 'CATELYN', 'TYRION', 'ARYA', 'DAVOS', 'THEON', 'DAENERYS', 'JON', 'ARYA', 'TYRION', 'BRAN', 'TYRION', 'SANSA', 'ARYA', 'TYRION', 'BRAN', 'CATELYN', 'JON', 'THEON', 'TYRION', 'ARYA', 'DAENERYS', 'BRAN', 'TYRION', 'ARYA', 'CATELYN', 'SANSA', 'CATELYN', 'JON', 'BRAN', 'TYRION', 'THEON', 'ARYA', 'CATELYN', 'DAENERYS', 'TYRION', 'DAVOS', 'JON', 'TYRION', 'CATELYN', 'BRAN', 'ARYA', 'DAENERYS', 'TYRION', 'THEON', 'JON', 'SANSA', 'JON', 'TYRION', 'CATELYN', 'THEON', 'SANSA', 'DAVOS', 'TYRION', 'SANSA', 'TYRION', 'SANSA', 'DAENERYS', 'ARYA', 'SANSA', 'THEON', 'TYRION', 'JON', 'BRAN', 'APPENDIX', 'THE', 'KINGS', 'AND', 'THEIR', 'COURTS', 'THE', 'KING', 'ON', 'THE', 'IRON', 'THRONE', 'THE', 'KING', 'IN', 'THE', 'NARROW', 'SEA', 'THE', 'KING', 'IN', 'HIGHGARDEN', 'THE', 'KING', 'IN', 'THE', 'NORTH', 'THE', 'QUEEN', 'ACROSS', 'THE', 'WATER', 'OTHER', 'HOUSES', 'GREAT', 'AND', 'SMALL', 'HOUSE', 'ARRYN', 'HOUSE', 'FLORENT', 'HOUSE', 'FREY', 'HOUSE', 'GREYJOY', 'HOUSE', 'LANNISTER', 'HOUSE', 'MARTELL', 'HOUSE', 'TYRELL', 'THE', 'MEN', 'OF', 'THE', 'NIGHT', 'S', 'WATCH', 'ACKNOWLEDGMENTS', 'To', 'John', 'and', 'Gail', 'for', 'all', 'the', 'meat', 'and', 'mead', 'we', 've', 'shared', 'PROLOGUE', 'The', 'comet', 's', 'tail', 'spread', 'across', 'the', 'dawn', 'a', 'red', 'slash', 'that', 'bled', 'above', 'the', 'crags', 'of', 'Dragonstone', 'like', 'a', 'wound', 'in', 'the', 'pink', 'and', 'purple', 'sky'], ['The', 'maester', 'stood', 'on', 'the', 'windswept', 'balcony', 'outside', 'his', 'chambers'], ['It', 'was', 'here', 'the', 'ravens', 'came', 'after', 'long', 'flight'], ['Their', 'droppings', 'speckled', 'the', 'gargoyles', 'that', 'rose', 'twelve', 'feet', 'tall', 'on', 'either', 'side', 'of', 'him', 'a', 'hellhound', 'and', 'a', 'wyvern', 'two', 'of', 'the', 'thousand', 'that', 'brooded', 'over', 'the', 'walls', 'of', 'the', 'ancient', 'fortress'], ['When', 'first', 'he', 'came', 'to', 'Dragonstone', 'the', 'army', 'of', 'stone', 'grotesques', 'had', 'made', 'him', 'uneasy', 'but', 'as', 'the', 'years', 'passed', 'he', 'had', 'grown', 'used', 'to', 'them'], ['Now', 'he', 'thought', 'of', 'them', 'as', 'old', 'friends'], ['The', 'three', 'of', 'them', 'watched', 'the', 'sky', 'together', 'with', 'foreboding'], ['The', 'maester', 'did', 'not', 'believe', 'in', 'omens'], ['And', 'yet'], [], [], ['old', 'as', 'he', 'was', 'Cressen', 'had', 'never', 'seen', 'a', 'comet', 'half', 'so', 'bright', 'nor', 'yet', 'that', 'color', 'that', 'terrible', 'color', 'the', 'color', 'of', 'blood', 'and', 'flame', 'and', 'sunsets'], ['He', 'wondered', 'if', 'his', 'gargoyles', 'had', 'ever', 'seen', 'its', 'like'], ['They', 'had', 'been', 'here', 'so', 'much', 'longer', 'than', 'he', 'had', 'and', 'would', 'still', 'be', 'here', 'long', 'after', 'he', 'was', 'gone'], ['If', 'stone', 'tongues', 'could', 'speak'], [], [], ['Such', 'folly'], ['He', 'leaned', 'against', 'the', 'battlement', 'the', 'sea', 'crashing', 'beneath', 'him', 'the', 'black', 'stone', 'rough', 'beneath', 'his', 'fingers'], ['Talking', 'gargoyles', 'and', 'prophecies', 'in', 'the', 'sky'], ['I', 'am', 'an', 'old', 'done', 'man', 'grown', 'giddy', 'as', 'a', 'child', 'again'], ['Had', 'a', 'lifetime', 's', 'hard', 'won', 'wisdom', 'fled', 'him', 'along', 'with', 'his', 'health', 'and', 'strength'], ['He', 'was', 'a', 'maester', 'trained', 'and', 'chained', 'in', 'the', 'great', 'Citadel', 'of', 'Oldtown'], ['What', 'had', 'he', 'come', 'to', 'when', 'superstition', 'filled', 'his', 'head', 'as', 'if', 'he', 'were', 'an', 'ignorant', 'fieldhand'], ['And', 'yet'], [], [], ['and', 'yet'], [], [], ['the', 'comet', 'burned', 'even', 'by', 'day', 'now', 'while', 'pale', 'grey', 'steam', 'rose', 'from', 'the', 'hot', 'vents', 'of', 'Dragonmont', 'behind', 'the', 'castle', 'and', 'yestermorn', 'a', 'white', 'raven', 'had', 'brought', 'word', 'from', 'the', 'Citadel', 'itself', 'word', 'long', 'expected', 'but', 'no', 'less', 'fearful', 'for', 'all', 'that', 'word', 'of', 'summer', 's', 'end'], ['Omens', 'all'], ['Too', 'many', 'to', 'deny'], ['What', 'does', 'it', 'all', 'mean'], ['he', 'wanted', 'to', 'cry'], ['Maester', 'Cressen', 'we', 'have', 'visitors', 'Pylos', 'spoke', 'softly', 'as', 'if', 'loath', 'to', 'disturb', 'Cressen', 's', 'solemn', 'meditations'], ['Had', 'he', 'known', 'what', 'drivel', 'filled', 'his', 'head', 'he', 'would', 'have', 'shouted'], ['The', 'princess', 'would', 'see', 'the', 'white', 'raven', 'Ever', 'correct', 'Pylos', 'called', 'her', 'princess', 'now', 'as', 'her', 'lord', 'father', 'was', 'a', 'king'], ['King', 'of', 'a', 'smoking', 'rock', 'in', 'the', 'great', 'salt', 'sea', 'yet', 'a', 'king', 'nonetheless'], ['Her', 'fool', 'is', 'with', 'her', 'The', 'old', 'man', 'turned', 'away', 'from', 'the', 'dawn', 'keeping', 'a', 'hand', 'on', 'his', 'wyvern', 'to', 'steady', 'himself'], ['Help', 'me', 'to', 'my', 'chair', 'and', 'show', 'them', 'in', 'Taking', 'his', 'arm', 'Pylos', 'led', 'him', 'inside'], ['In', 'his', 'youth', 'Cressen', 'had', 'walked', 'briskly', 'but', 'he', 'was', 'not', 'far', 'from', 'his', 'eightieth', 'name', 'day', 'now', 'and', 'his', 'legs', 'were', 'frail', 'and', 'unsteady'], ['Two', 'years', 'past', 'he', 'had', 'fallen', 'and', 'shattered', 'a', 'hip', 'and', 'it', 'had', 'never', 'mended', 'properly'], ['Last', 'year', 'when', 'he', 'took', 'ill', 'the', 'Citadel', 'had', 'sent', 'Pylos', 'out', 'from', 'Oldtown', 'mere', 'days', 'before', 'Lord', 'Stannis', 'had', 'closed', 'the', 'isle'], [], [], ['to', 'help', 'him', 'in', 'his', 'labors', 'it', 'was', 'said', 'but', 'Cressen', 'knew', 'the', 'truth'], ['Pylos', 'had', 'come', 'to', 'replace', 'him', 'when', 'he', 'died'], ['He', 'did', 'not', 'mind'], ['Someone', 'must', 'take', 'his', 'place', 'and', 'sooner', 'than', 'he', 'would', 'like'], [], [], ['He', 'let', 'the', 'younger', 'man', 'settle', 'him', 'behind', 'his', 'books', 'and', 'papers'], ['Go', 'bring', 'her'], ['It', 'is', 'ill', 'to', 'keep', 'a', 'lady', 'waiting', 'He', 'waved', 'a', 'hand', 'a', 'feeble', 'gesture', 'of', 'haste', 'from', 'a', 'man', 'no', 'longer', 'capable', 'of', 'hastening'], ['His', 'flesh', 'was', 'wrinkled', 'and', 'spotted', 'the', 'skin', 'so', 'papery', 'thin', 'that', 'he', 'could', 'see', 'the', 'web', 'of', 'veins', 'and', 'the', 'shape', 'of', 'bones', 'beneath'], ['And', 'how', 'they', 'trembled', 'these', 'hands', 'of', 'his', 'that', 'had', 'once', 'been', 'so', 'sure', 'and', 'deft'], [], [], ['When', 'Pylos', 'returned', 'the', 'girl', 'came', 'with', 'him', 'shy', 'as', 'ever'], ['Behind', 'her', 'shuffling', 'and', 'hopping', 'in', 'that', 'queer', 'sideways', 'walk', 'of', 'his', 'came', 'her', 'fool'], ['On', 'his', 'head', 'was', 'a', 'mock', 'helm', 'fashioned', 'from', 'an', 'old', 'tin', 'bucket', 'with', 'a', 'rack', 'of', 'deer', 'antlers', 'strapped', 'to', 'the', 'crown', 'and', 'hung', 'with', 'cowbells'], ['With', 'his', 'every', 'lurching', 'step', 'the', 'bells', 'rang', 'each', 'with', 'a', 'different', 'voice', 'clang', 'a', 'dang', 'bong', 'dong', 'ring', 'a', 'ling', 'clong', 'clong', 'clong'], ['Who', 'comes', 'to', 'see', 'us', 'so', 'early', 'Pylos', 'Cressen', 'said'], ['It', 's', 'me', 'and', 'Patches', 'Maester', 'Guileless', 'blue', 'eyes', 'blinked', 'at', 'him'], ['Hers', 'was', 'not', 'a', 'pretty', 'face', 'alas'], ['The', 'child', 'had', 'her', 'lord', 'father', 's', 'square', 'jut', 'of', 'jaw', 'and', 'her', 'mother', 's', 'unfortunate', 'ears', 'along', 'with', 'a', 'disfigurement', 'all', 'her', 'own', 'the', 'legacy', 'of', 'the', 'bout', 'of', 'greyscale', 'that', 'had', 'almost', 'claimed', 'her', 'in', 'the', 'crib'], ['Across', 'half', 'one', 'cheek', 'and', 'well', 'down', 'her', 'neck', 'her', 'flesh', 'was', 'stiff', 'and', 'dead', 'the', 'skin', 'cracked', 'and', 'flaking', 'mottled', 'black', 'and', 'grey', 'and', 'stony', 'to', 'the', 'touch'], ['Pylos', 'said', 'we', 'might', 'see', 'the', 'white', 'raven', 'Indeed', 'you', 'may', 'Cressen', 'answered'], ['As', 'if', 'he', 'would', 'ever', 'deny', 'her'], ['She', 'had', 'been', 'denied', 'too', 'often', 'in', 'her', 'time'], ['Her', 'name', 'was', 'Shireen'], ['She', 'would', 'be', 'ten', 'on', 'her', 'next', 'name', 'day', 'and', 'she', 'was', 'the', 'saddest', 'child', 'that', 'Maester', 'Cressen', 'had', 'ever', 'known'], ['Her', 'sadness', 'is', 'my', 'shame', 'the', 'old', 'man', 'thought', 'another', 'mark', 'of', 'my', 'failure'], ['Maester', 'Pylos', 'do', 'me', 'a', 'kindness', 'and', 'bring', 'the', 'bird', 'down', 'from', 'the', 'rookery', 'for', 'the', 'Lady', 'Shireen', 'It', 'would', 'be', 'my', 'pleasure', 'Pylos', 'was', 'a', 'polite', 'youth', 'no', 'more', 'than', 'five', 'and', 'twenty', 'yet', 'solemn', 'as', 'a', 'man', 'of', 'sixty'], ['If', 'only', 'he', 'had', 'more', 'humor', 'more', 'life', 'in', 'him', 'that', 'was', 'what', 'was', 'needed', 'here'], ['Grim', 'places', 'needed', 'lightening', 'not', 'solemnity', 'and', 'Dragonstone', 'was', 'grim', 'beyond', 'a', 'doubt', 'a', 'lonely', 'citadel', 'in', 'the', 'wet', 'waste', 'surrounded', 'by', 'storm', 'and', 'salt', 'with', 'the', 'smoking', 'shadow', 'of', 'the', 'mountain', 'at', 'its', 'back'], ['A', 'maester', 'must', 'go', 'where', 'he', 'is', 'sent', 'so', 'Cressen', 'had', 'come', 'here', 'with', 'his', 'lord', 'some', 'twelve', 'years', 'past', 'and', 'he', 'had', 'served', 'and', 'served', 'well'], ['Yet', 'he', 'had', 'never', 'loved', 'Dragonstone', 'nor', 'ever', 'felt', 'truly', 'at', 'home', 'here'], ['Of', 'late', 'when', 'he', 'woke', 'from', 'restless', 'dreams', 'in', 'which', 'the', 'red', 'woman', 'figured', 'disturbingly', 'he', 'often', 'did', 'not', 'know', 'where', 'he', 'was'], ['The', 'fool', 'turned', 'his', 'patched', 'and', 'piebald', 'head', 'to', 'watch', 'Pylos', 'climb', 'the', 'steep', 'iron', 'steps', 'to', 'the', 'rookery'], ['His', 'bells', 'rang', 'with', 'the', 'motion'], ['Under', 'the', 'sea', 'the', 'birds', 'have', 'scales', 'for', 'feathers', 'he', 'said', 'clang', 'a', 'langing'], ['I', 'know', 'I', 'know', 'oh', 'oh', 'oh', 'Even', 'for', 'a', 'fool', 'Patchface', 'was', 'a', 'sorry', 'thing'], ['Perhaps', 'once', 'he', 'could', 'evoke', 'gales', 'of', 'laughter', 'with', 'a', 'quip', 'but', 'the', 'sea', 'had', 'taken', 'that', 'power', 'from', 'him', 'along', 'with', 'half', 'his', 'wits', 'and', 'all', 'his', 'memory'], ['He', 'was', 'soft', 'and', 'obese', 'subject', 'to', 'twitches', 'and', 'trembles', 'incoherent', 'as', 'often', 'as', 'not'], ['The', 'girl', 'was', 'the', 'only', 'one', 'who', 'laughed', 'at', 'him', 'now', 'the', 'only', 'one', 'who', 'cared', 'if', 'he', 'lived', 'or', 'died'], ['An', 'ugly', 'little', 'girl', 'and', 'a', 'sad', 'fool', 'and', 'maester', 'makes', 'three'], [], [], ['now', 'there', 'is', 'a', 'tale', 'to', 'make', 'men', 'weep'], ['Sit', 'with', 'me', 'child', 'Cressen', 'beckoned', 'her', 'closer']]\n"
     ]
    }
   ],
   "source": [
    "print(sentences[:100])"
   ]
  },
  {
   "cell_type": "code",
   "execution_count": 44,
   "metadata": {},
   "outputs": [
    {
     "name": "stdout",
     "output_type": "stream",
     "text": [
      "The book corpus contains 1818103 tokens \n"
     ]
    }
   ],
   "source": [
    "token_count = sum(len(sentence) for sentence in sentences)\n",
    "print('The book corpus contains {0} tokens '.format(token_count))"
   ]
  },
  {
   "cell_type": "code",
   "execution_count": 45,
   "metadata": {},
   "outputs": [],
   "source": [
    "num_features = 300\n",
    "\n",
    "min_word_count = 3\n",
    "\n",
    "num_workers = multiprocessing.cpu_count()\n",
    "\n",
    "# Context window lenght\n",
    "context = 7\n",
    "\n",
    "# Downsampling setting for frequent words\n",
    "downsampling = 1e-3\n",
    "\n",
    "# seed for RNG to make to make result reproducable\n",
    "seed = 1"
   ]
  },
  {
   "cell_type": "code",
   "execution_count": 47,
   "metadata": {},
   "outputs": [],
   "source": [
    "thronestovec = wtv.Word2Vec(sg = 1,\n",
    "                           seed = seed,\n",
    "                           workers = num_workers,\n",
    "                           size = num_features,\n",
    "                           min_count = min_word_count,\n",
    "                           window = context,\n",
    "                           sample = downsampling\n",
    "                           )"
   ]
  },
  {
   "cell_type": "code",
   "execution_count": null,
   "metadata": {},
   "outputs": [],
   "source": [
    "# building the model\n",
    "thronestovec.build_vocab(sentences)"
   ]
  },
  {
   "cell_type": "code",
   "execution_count": 60,
   "metadata": {},
   "outputs": [
    {
     "data": {
      "text/plain": [
       "(2808697, 3636206)"
      ]
     },
     "execution_count": 60,
     "metadata": {},
     "output_type": "execute_result"
    }
   ],
   "source": [
    "# training the model\n",
    "thronestovec.train(sentences, total_examples=thronestovec.corpus_count, epochs= 2)"
   ]
  },
  {
   "cell_type": "code",
   "execution_count": 61,
   "metadata": {},
   "outputs": [],
   "source": [
    "# making directory to save the model\n",
    "if not os.path.exists('trained'):\n",
    "    os.makedirs('trained')"
   ]
  },
  {
   "cell_type": "code",
   "execution_count": 62,
   "metadata": {},
   "outputs": [],
   "source": [
    "# saving the model\n",
    "thronestovec.save(os.path.join('trained','thronestovec.w2v'))"
   ]
  },
  {
   "cell_type": "code",
   "execution_count": 63,
   "metadata": {},
   "outputs": [],
   "source": [
    "# Explore the trained model\n",
    "thronestovec = wtv.Word2Vec.load(os.path.join('trained','thronestovec.w2v'))"
   ]
  },
  {
   "cell_type": "code",
   "execution_count": 71,
   "metadata": {},
   "outputs": [],
   "source": [
    "# Compressing the whole three dimension vector to a 2D space\n",
    "tsne = sklearn.manifold.TSNE(n_components = 2, random_state = 0)"
   ]
  },
  {
   "cell_type": "code",
   "execution_count": 79,
   "metadata": {},
   "outputs": [
    {
     "name": "stderr",
     "output_type": "stream",
     "text": [
      "/usr/local/lib/python3.6/dist-packages/ipykernel_launcher.py:1: DeprecationWarning: Call to deprecated `syn1neg` (Attribute will be removed in 4.0.0, use self.trainables.syn1neg instead).\n",
      "  \"\"\"Entry point for launching an IPython kernel.\n"
     ]
    }
   ],
   "source": [
    "all_words_vectors_matrix = thronestovec.syn1neg"
   ]
  },
  {
   "cell_type": "code",
   "execution_count": 80,
   "metadata": {},
   "outputs": [],
   "source": [
    "all_words_vectors_matrix_2d = tsne.fit_transform(all_words_vectors_matrix)\n"
   ]
  },
  {
   "cell_type": "code",
   "execution_count": null,
   "metadata": {},
   "outputs": [],
   "source": []
  },
  {
   "cell_type": "code",
   "execution_count": null,
   "metadata": {},
   "outputs": [],
   "source": []
  },
  {
   "cell_type": "code",
   "execution_count": null,
   "metadata": {},
   "outputs": [],
   "source": []
  }
 ],
 "metadata": {
  "kernelspec": {
   "display_name": "Python 3",
   "language": "python",
   "name": "python3"
  },
  "language_info": {
   "codemirror_mode": {
    "name": "ipython",
    "version": 3
   },
   "file_extension": ".py",
   "mimetype": "text/x-python",
   "name": "python",
   "nbconvert_exporter": "python",
   "pygments_lexer": "ipython3",
   "version": "3.6.8"
  }
 },
 "nbformat": 4,
 "nbformat_minor": 2
}
