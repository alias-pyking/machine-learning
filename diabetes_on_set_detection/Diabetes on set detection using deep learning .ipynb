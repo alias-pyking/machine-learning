{
 "cells": [
  {
   "cell_type": "code",
   "execution_count": 1,
   "metadata": {},
   "outputs": [
    {
     "name": "stderr",
     "output_type": "stream",
     "text": [
      "Using Theano backend.\n",
      "WARNING (theano.tensor.blas): Using NumPy C-API based implementation for BLAS functions.\n"
     ]
    }
   ],
   "source": [
    "import numpy as np\n",
    "import pandas as pd\n",
    "import sklearn\n",
    "import keras"
   ]
  },
  {
   "cell_type": "code",
   "execution_count": 3,
   "metadata": {},
   "outputs": [],
   "source": [
    "# Import uci pima indian diabetes dataset\n",
    "\n",
    "# As our data set as no column names so we are defining the names so that we could explore our dataset\n",
    "names = ['n_pregant','glucose_concentration','blood_pressure (mm HG)','skin_thickness (mm)',\n",
    "         'serum_insulin (mu U/ml)','BMI','pedigree_function','age','class']\n",
    "data_frame_diabetes = pd.read_csv('diabetes.csv')\n"
   ]
  },
  {
   "cell_type": "code",
   "execution_count": 4,
   "metadata": {},
   "outputs": [
    {
     "data": {
      "text/plain": [
       "Index(['Pregnancies', 'Glucose', 'BloodPressure', 'SkinThickness', 'Insulin',\n",
       "       'BMI', 'DiabetesPedigreeFunction', 'Age', 'Outcome'],\n",
       "      dtype='object')"
      ]
     },
     "execution_count": 4,
     "metadata": {},
     "output_type": "execute_result"
    }
   ],
   "source": [
    "columns = data_frame_diabetes.columns\n",
    "columns\n"
   ]
  },
  {
   "cell_type": "code",
   "execution_count": 5,
   "metadata": {},
   "outputs": [
    {
     "data": {
      "text/html": [
       "<div>\n",
       "<style scoped>\n",
       "    .dataframe tbody tr th:only-of-type {\n",
       "        vertical-align: middle;\n",
       "    }\n",
       "\n",
       "    .dataframe tbody tr th {\n",
       "        vertical-align: top;\n",
       "    }\n",
       "\n",
       "    .dataframe thead th {\n",
       "        text-align: right;\n",
       "    }\n",
       "</style>\n",
       "<table border=\"1\" class=\"dataframe\">\n",
       "  <thead>\n",
       "    <tr style=\"text-align: right;\">\n",
       "      <th></th>\n",
       "      <th>Pregnancies</th>\n",
       "      <th>Glucose</th>\n",
       "      <th>BloodPressure</th>\n",
       "      <th>SkinThickness</th>\n",
       "      <th>Insulin</th>\n",
       "      <th>BMI</th>\n",
       "      <th>DiabetesPedigreeFunction</th>\n",
       "      <th>Age</th>\n",
       "      <th>Outcome</th>\n",
       "    </tr>\n",
       "  </thead>\n",
       "  <tbody>\n",
       "    <tr>\n",
       "      <th>count</th>\n",
       "      <td>768.000000</td>\n",
       "      <td>768.000000</td>\n",
       "      <td>768.000000</td>\n",
       "      <td>768.000000</td>\n",
       "      <td>768.000000</td>\n",
       "      <td>768.000000</td>\n",
       "      <td>768.000000</td>\n",
       "      <td>768.000000</td>\n",
       "      <td>768.000000</td>\n",
       "    </tr>\n",
       "    <tr>\n",
       "      <th>mean</th>\n",
       "      <td>3.845052</td>\n",
       "      <td>120.894531</td>\n",
       "      <td>69.105469</td>\n",
       "      <td>20.536458</td>\n",
       "      <td>79.799479</td>\n",
       "      <td>31.992578</td>\n",
       "      <td>0.471876</td>\n",
       "      <td>33.240885</td>\n",
       "      <td>0.348958</td>\n",
       "    </tr>\n",
       "    <tr>\n",
       "      <th>std</th>\n",
       "      <td>3.369578</td>\n",
       "      <td>31.972618</td>\n",
       "      <td>19.355807</td>\n",
       "      <td>15.952218</td>\n",
       "      <td>115.244002</td>\n",
       "      <td>7.884160</td>\n",
       "      <td>0.331329</td>\n",
       "      <td>11.760232</td>\n",
       "      <td>0.476951</td>\n",
       "    </tr>\n",
       "    <tr>\n",
       "      <th>min</th>\n",
       "      <td>0.000000</td>\n",
       "      <td>0.000000</td>\n",
       "      <td>0.000000</td>\n",
       "      <td>0.000000</td>\n",
       "      <td>0.000000</td>\n",
       "      <td>0.000000</td>\n",
       "      <td>0.078000</td>\n",
       "      <td>21.000000</td>\n",
       "      <td>0.000000</td>\n",
       "    </tr>\n",
       "    <tr>\n",
       "      <th>25%</th>\n",
       "      <td>1.000000</td>\n",
       "      <td>99.000000</td>\n",
       "      <td>62.000000</td>\n",
       "      <td>0.000000</td>\n",
       "      <td>0.000000</td>\n",
       "      <td>27.300000</td>\n",
       "      <td>0.243750</td>\n",
       "      <td>24.000000</td>\n",
       "      <td>0.000000</td>\n",
       "    </tr>\n",
       "    <tr>\n",
       "      <th>50%</th>\n",
       "      <td>3.000000</td>\n",
       "      <td>117.000000</td>\n",
       "      <td>72.000000</td>\n",
       "      <td>23.000000</td>\n",
       "      <td>30.500000</td>\n",
       "      <td>32.000000</td>\n",
       "      <td>0.372500</td>\n",
       "      <td>29.000000</td>\n",
       "      <td>0.000000</td>\n",
       "    </tr>\n",
       "    <tr>\n",
       "      <th>75%</th>\n",
       "      <td>6.000000</td>\n",
       "      <td>140.250000</td>\n",
       "      <td>80.000000</td>\n",
       "      <td>32.000000</td>\n",
       "      <td>127.250000</td>\n",
       "      <td>36.600000</td>\n",
       "      <td>0.626250</td>\n",
       "      <td>41.000000</td>\n",
       "      <td>1.000000</td>\n",
       "    </tr>\n",
       "    <tr>\n",
       "      <th>max</th>\n",
       "      <td>17.000000</td>\n",
       "      <td>199.000000</td>\n",
       "      <td>122.000000</td>\n",
       "      <td>99.000000</td>\n",
       "      <td>846.000000</td>\n",
       "      <td>67.100000</td>\n",
       "      <td>2.420000</td>\n",
       "      <td>81.000000</td>\n",
       "      <td>1.000000</td>\n",
       "    </tr>\n",
       "  </tbody>\n",
       "</table>\n",
       "</div>"
      ],
      "text/plain": [
       "       Pregnancies     Glucose  BloodPressure  SkinThickness     Insulin  \\\n",
       "count   768.000000  768.000000     768.000000     768.000000  768.000000   \n",
       "mean      3.845052  120.894531      69.105469      20.536458   79.799479   \n",
       "std       3.369578   31.972618      19.355807      15.952218  115.244002   \n",
       "min       0.000000    0.000000       0.000000       0.000000    0.000000   \n",
       "25%       1.000000   99.000000      62.000000       0.000000    0.000000   \n",
       "50%       3.000000  117.000000      72.000000      23.000000   30.500000   \n",
       "75%       6.000000  140.250000      80.000000      32.000000  127.250000   \n",
       "max      17.000000  199.000000     122.000000      99.000000  846.000000   \n",
       "\n",
       "              BMI  DiabetesPedigreeFunction         Age     Outcome  \n",
       "count  768.000000                768.000000  768.000000  768.000000  \n",
       "mean    31.992578                  0.471876   33.240885    0.348958  \n",
       "std      7.884160                  0.331329   11.760232    0.476951  \n",
       "min      0.000000                  0.078000   21.000000    0.000000  \n",
       "25%     27.300000                  0.243750   24.000000    0.000000  \n",
       "50%     32.000000                  0.372500   29.000000    0.000000  \n",
       "75%     36.600000                  0.626250   41.000000    1.000000  \n",
       "max     67.100000                  2.420000   81.000000    1.000000  "
      ]
     },
     "execution_count": 5,
     "metadata": {},
     "output_type": "execute_result"
    }
   ],
   "source": [
    "data_frame_diabetes.describe()"
   ]
  },
  {
   "cell_type": "code",
   "execution_count": 6,
   "metadata": {},
   "outputs": [
    {
     "data": {
      "text/html": [
       "<div>\n",
       "<style scoped>\n",
       "    .dataframe tbody tr th:only-of-type {\n",
       "        vertical-align: middle;\n",
       "    }\n",
       "\n",
       "    .dataframe tbody tr th {\n",
       "        vertical-align: top;\n",
       "    }\n",
       "\n",
       "    .dataframe thead th {\n",
       "        text-align: right;\n",
       "    }\n",
       "</style>\n",
       "<table border=\"1\" class=\"dataframe\">\n",
       "  <thead>\n",
       "    <tr style=\"text-align: right;\">\n",
       "      <th></th>\n",
       "      <th>Pregnancies</th>\n",
       "      <th>Glucose</th>\n",
       "      <th>BloodPressure</th>\n",
       "      <th>SkinThickness</th>\n",
       "      <th>Insulin</th>\n",
       "      <th>BMI</th>\n",
       "      <th>DiabetesPedigreeFunction</th>\n",
       "      <th>Age</th>\n",
       "      <th>Outcome</th>\n",
       "    </tr>\n",
       "  </thead>\n",
       "  <tbody>\n",
       "    <tr>\n",
       "      <th>75</th>\n",
       "      <td>1</td>\n",
       "      <td>0</td>\n",
       "      <td>48</td>\n",
       "      <td>20</td>\n",
       "      <td>0</td>\n",
       "      <td>24.7</td>\n",
       "      <td>0.140</td>\n",
       "      <td>22</td>\n",
       "      <td>0</td>\n",
       "    </tr>\n",
       "    <tr>\n",
       "      <th>182</th>\n",
       "      <td>1</td>\n",
       "      <td>0</td>\n",
       "      <td>74</td>\n",
       "      <td>20</td>\n",
       "      <td>23</td>\n",
       "      <td>27.7</td>\n",
       "      <td>0.299</td>\n",
       "      <td>21</td>\n",
       "      <td>0</td>\n",
       "    </tr>\n",
       "    <tr>\n",
       "      <th>342</th>\n",
       "      <td>1</td>\n",
       "      <td>0</td>\n",
       "      <td>68</td>\n",
       "      <td>35</td>\n",
       "      <td>0</td>\n",
       "      <td>32.0</td>\n",
       "      <td>0.389</td>\n",
       "      <td>22</td>\n",
       "      <td>0</td>\n",
       "    </tr>\n",
       "    <tr>\n",
       "      <th>349</th>\n",
       "      <td>5</td>\n",
       "      <td>0</td>\n",
       "      <td>80</td>\n",
       "      <td>32</td>\n",
       "      <td>0</td>\n",
       "      <td>41.0</td>\n",
       "      <td>0.346</td>\n",
       "      <td>37</td>\n",
       "      <td>1</td>\n",
       "    </tr>\n",
       "    <tr>\n",
       "      <th>502</th>\n",
       "      <td>6</td>\n",
       "      <td>0</td>\n",
       "      <td>68</td>\n",
       "      <td>41</td>\n",
       "      <td>0</td>\n",
       "      <td>39.0</td>\n",
       "      <td>0.727</td>\n",
       "      <td>41</td>\n",
       "      <td>1</td>\n",
       "    </tr>\n",
       "  </tbody>\n",
       "</table>\n",
       "</div>"
      ],
      "text/plain": [
       "     Pregnancies  Glucose  BloodPressure  SkinThickness  Insulin   BMI  \\\n",
       "75             1        0             48             20        0  24.7   \n",
       "182            1        0             74             20       23  27.7   \n",
       "342            1        0             68             35        0  32.0   \n",
       "349            5        0             80             32        0  41.0   \n",
       "502            6        0             68             41        0  39.0   \n",
       "\n",
       "     DiabetesPedigreeFunction  Age  Outcome  \n",
       "75                      0.140   22        0  \n",
       "182                     0.299   21        0  \n",
       "342                     0.389   22        0  \n",
       "349                     0.346   37        1  \n",
       "502                     0.727   41        1  "
      ]
     },
     "execution_count": 6,
     "metadata": {},
     "output_type": "execute_result"
    }
   ],
   "source": [
    "data_frame_diabetes[data_frame_diabetes['Glucose'] == 0]"
   ]
  },
  {
   "cell_type": "code",
   "execution_count": 7,
   "metadata": {},
   "outputs": [
    {
     "data": {
      "text/html": [
       "<div>\n",
       "<style scoped>\n",
       "    .dataframe tbody tr th:only-of-type {\n",
       "        vertical-align: middle;\n",
       "    }\n",
       "\n",
       "    .dataframe tbody tr th {\n",
       "        vertical-align: top;\n",
       "    }\n",
       "\n",
       "    .dataframe thead th {\n",
       "        text-align: right;\n",
       "    }\n",
       "</style>\n",
       "<table border=\"1\" class=\"dataframe\">\n",
       "  <thead>\n",
       "    <tr style=\"text-align: right;\">\n",
       "      <th></th>\n",
       "      <th>Pregnancies</th>\n",
       "      <th>Glucose</th>\n",
       "      <th>BloodPressure</th>\n",
       "      <th>SkinThickness</th>\n",
       "      <th>Insulin</th>\n",
       "      <th>BMI</th>\n",
       "      <th>DiabetesPedigreeFunction</th>\n",
       "      <th>Age</th>\n",
       "      <th>Outcome</th>\n",
       "    </tr>\n",
       "  </thead>\n",
       "  <tbody>\n",
       "    <tr>\n",
       "      <th>count</th>\n",
       "      <td>768.000000</td>\n",
       "      <td>763.000000</td>\n",
       "      <td>733.000000</td>\n",
       "      <td>541.000000</td>\n",
       "      <td>394.000000</td>\n",
       "      <td>757.000000</td>\n",
       "      <td>768.000000</td>\n",
       "      <td>768.000000</td>\n",
       "      <td>768.000000</td>\n",
       "    </tr>\n",
       "    <tr>\n",
       "      <th>mean</th>\n",
       "      <td>3.845052</td>\n",
       "      <td>121.686763</td>\n",
       "      <td>72.405184</td>\n",
       "      <td>29.153420</td>\n",
       "      <td>155.548223</td>\n",
       "      <td>32.457464</td>\n",
       "      <td>0.471876</td>\n",
       "      <td>33.240885</td>\n",
       "      <td>0.348958</td>\n",
       "    </tr>\n",
       "    <tr>\n",
       "      <th>std</th>\n",
       "      <td>3.369578</td>\n",
       "      <td>30.535641</td>\n",
       "      <td>12.382158</td>\n",
       "      <td>10.476982</td>\n",
       "      <td>118.775855</td>\n",
       "      <td>6.924988</td>\n",
       "      <td>0.331329</td>\n",
       "      <td>11.760232</td>\n",
       "      <td>0.476951</td>\n",
       "    </tr>\n",
       "    <tr>\n",
       "      <th>min</th>\n",
       "      <td>0.000000</td>\n",
       "      <td>44.000000</td>\n",
       "      <td>24.000000</td>\n",
       "      <td>7.000000</td>\n",
       "      <td>14.000000</td>\n",
       "      <td>18.200000</td>\n",
       "      <td>0.078000</td>\n",
       "      <td>21.000000</td>\n",
       "      <td>0.000000</td>\n",
       "    </tr>\n",
       "    <tr>\n",
       "      <th>25%</th>\n",
       "      <td>1.000000</td>\n",
       "      <td>99.000000</td>\n",
       "      <td>64.000000</td>\n",
       "      <td>22.000000</td>\n",
       "      <td>76.250000</td>\n",
       "      <td>27.500000</td>\n",
       "      <td>0.243750</td>\n",
       "      <td>24.000000</td>\n",
       "      <td>0.000000</td>\n",
       "    </tr>\n",
       "    <tr>\n",
       "      <th>50%</th>\n",
       "      <td>3.000000</td>\n",
       "      <td>117.000000</td>\n",
       "      <td>72.000000</td>\n",
       "      <td>29.000000</td>\n",
       "      <td>125.000000</td>\n",
       "      <td>32.300000</td>\n",
       "      <td>0.372500</td>\n",
       "      <td>29.000000</td>\n",
       "      <td>0.000000</td>\n",
       "    </tr>\n",
       "    <tr>\n",
       "      <th>75%</th>\n",
       "      <td>6.000000</td>\n",
       "      <td>141.000000</td>\n",
       "      <td>80.000000</td>\n",
       "      <td>36.000000</td>\n",
       "      <td>190.000000</td>\n",
       "      <td>36.600000</td>\n",
       "      <td>0.626250</td>\n",
       "      <td>41.000000</td>\n",
       "      <td>1.000000</td>\n",
       "    </tr>\n",
       "    <tr>\n",
       "      <th>max</th>\n",
       "      <td>17.000000</td>\n",
       "      <td>199.000000</td>\n",
       "      <td>122.000000</td>\n",
       "      <td>99.000000</td>\n",
       "      <td>846.000000</td>\n",
       "      <td>67.100000</td>\n",
       "      <td>2.420000</td>\n",
       "      <td>81.000000</td>\n",
       "      <td>1.000000</td>\n",
       "    </tr>\n",
       "  </tbody>\n",
       "</table>\n",
       "</div>"
      ],
      "text/plain": [
       "       Pregnancies     Glucose  BloodPressure  SkinThickness     Insulin  \\\n",
       "count   768.000000  763.000000     733.000000     541.000000  394.000000   \n",
       "mean      3.845052  121.686763      72.405184      29.153420  155.548223   \n",
       "std       3.369578   30.535641      12.382158      10.476982  118.775855   \n",
       "min       0.000000   44.000000      24.000000       7.000000   14.000000   \n",
       "25%       1.000000   99.000000      64.000000      22.000000   76.250000   \n",
       "50%       3.000000  117.000000      72.000000      29.000000  125.000000   \n",
       "75%       6.000000  141.000000      80.000000      36.000000  190.000000   \n",
       "max      17.000000  199.000000     122.000000      99.000000  846.000000   \n",
       "\n",
       "              BMI  DiabetesPedigreeFunction         Age     Outcome  \n",
       "count  757.000000                768.000000  768.000000  768.000000  \n",
       "mean    32.457464                  0.471876   33.240885    0.348958  \n",
       "std      6.924988                  0.331329   11.760232    0.476951  \n",
       "min     18.200000                  0.078000   21.000000    0.000000  \n",
       "25%     27.500000                  0.243750   24.000000    0.000000  \n",
       "50%     32.300000                  0.372500   29.000000    0.000000  \n",
       "75%     36.600000                  0.626250   41.000000    1.000000  \n",
       "max     67.100000                  2.420000   81.000000    1.000000  "
      ]
     },
     "execution_count": 7,
     "metadata": {},
     "output_type": "execute_result"
    }
   ],
   "source": [
    "columns_with_null_values = ['Glucose', 'BloodPressure', 'SkinThickness', 'Insulin','BMI']\n",
    "for col in columns_with_null_values:\n",
    "    data_frame_diabetes[col].replace(0, np.NaN,inplace = True)\n",
    "data_frame_diabetes.describe()"
   ]
  },
  {
   "cell_type": "code",
   "execution_count": 8,
   "metadata": {},
   "outputs": [
    {
     "data": {
      "text/html": [
       "<div>\n",
       "<style scoped>\n",
       "    .dataframe tbody tr th:only-of-type {\n",
       "        vertical-align: middle;\n",
       "    }\n",
       "\n",
       "    .dataframe tbody tr th {\n",
       "        vertical-align: top;\n",
       "    }\n",
       "\n",
       "    .dataframe thead th {\n",
       "        text-align: right;\n",
       "    }\n",
       "</style>\n",
       "<table border=\"1\" class=\"dataframe\">\n",
       "  <thead>\n",
       "    <tr style=\"text-align: right;\">\n",
       "      <th></th>\n",
       "      <th>Pregnancies</th>\n",
       "      <th>Glucose</th>\n",
       "      <th>BloodPressure</th>\n",
       "      <th>SkinThickness</th>\n",
       "      <th>Insulin</th>\n",
       "      <th>BMI</th>\n",
       "      <th>DiabetesPedigreeFunction</th>\n",
       "      <th>Age</th>\n",
       "      <th>Outcome</th>\n",
       "    </tr>\n",
       "  </thead>\n",
       "  <tbody>\n",
       "    <tr>\n",
       "      <th>count</th>\n",
       "      <td>392.000000</td>\n",
       "      <td>392.000000</td>\n",
       "      <td>392.000000</td>\n",
       "      <td>392.000000</td>\n",
       "      <td>392.000000</td>\n",
       "      <td>392.000000</td>\n",
       "      <td>392.000000</td>\n",
       "      <td>392.000000</td>\n",
       "      <td>392.000000</td>\n",
       "    </tr>\n",
       "    <tr>\n",
       "      <th>mean</th>\n",
       "      <td>3.301020</td>\n",
       "      <td>122.627551</td>\n",
       "      <td>70.663265</td>\n",
       "      <td>29.145408</td>\n",
       "      <td>156.056122</td>\n",
       "      <td>33.086224</td>\n",
       "      <td>0.523046</td>\n",
       "      <td>30.864796</td>\n",
       "      <td>0.331633</td>\n",
       "    </tr>\n",
       "    <tr>\n",
       "      <th>std</th>\n",
       "      <td>3.211424</td>\n",
       "      <td>30.860781</td>\n",
       "      <td>12.496092</td>\n",
       "      <td>10.516424</td>\n",
       "      <td>118.841690</td>\n",
       "      <td>7.027659</td>\n",
       "      <td>0.345488</td>\n",
       "      <td>10.200777</td>\n",
       "      <td>0.471401</td>\n",
       "    </tr>\n",
       "    <tr>\n",
       "      <th>min</th>\n",
       "      <td>0.000000</td>\n",
       "      <td>56.000000</td>\n",
       "      <td>24.000000</td>\n",
       "      <td>7.000000</td>\n",
       "      <td>14.000000</td>\n",
       "      <td>18.200000</td>\n",
       "      <td>0.085000</td>\n",
       "      <td>21.000000</td>\n",
       "      <td>0.000000</td>\n",
       "    </tr>\n",
       "    <tr>\n",
       "      <th>25%</th>\n",
       "      <td>1.000000</td>\n",
       "      <td>99.000000</td>\n",
       "      <td>62.000000</td>\n",
       "      <td>21.000000</td>\n",
       "      <td>76.750000</td>\n",
       "      <td>28.400000</td>\n",
       "      <td>0.269750</td>\n",
       "      <td>23.000000</td>\n",
       "      <td>0.000000</td>\n",
       "    </tr>\n",
       "    <tr>\n",
       "      <th>50%</th>\n",
       "      <td>2.000000</td>\n",
       "      <td>119.000000</td>\n",
       "      <td>70.000000</td>\n",
       "      <td>29.000000</td>\n",
       "      <td>125.500000</td>\n",
       "      <td>33.200000</td>\n",
       "      <td>0.449500</td>\n",
       "      <td>27.000000</td>\n",
       "      <td>0.000000</td>\n",
       "    </tr>\n",
       "    <tr>\n",
       "      <th>75%</th>\n",
       "      <td>5.000000</td>\n",
       "      <td>143.000000</td>\n",
       "      <td>78.000000</td>\n",
       "      <td>37.000000</td>\n",
       "      <td>190.000000</td>\n",
       "      <td>37.100000</td>\n",
       "      <td>0.687000</td>\n",
       "      <td>36.000000</td>\n",
       "      <td>1.000000</td>\n",
       "    </tr>\n",
       "    <tr>\n",
       "      <th>max</th>\n",
       "      <td>17.000000</td>\n",
       "      <td>198.000000</td>\n",
       "      <td>110.000000</td>\n",
       "      <td>63.000000</td>\n",
       "      <td>846.000000</td>\n",
       "      <td>67.100000</td>\n",
       "      <td>2.420000</td>\n",
       "      <td>81.000000</td>\n",
       "      <td>1.000000</td>\n",
       "    </tr>\n",
       "  </tbody>\n",
       "</table>\n",
       "</div>"
      ],
      "text/plain": [
       "       Pregnancies     Glucose  BloodPressure  SkinThickness     Insulin  \\\n",
       "count   392.000000  392.000000     392.000000     392.000000  392.000000   \n",
       "mean      3.301020  122.627551      70.663265      29.145408  156.056122   \n",
       "std       3.211424   30.860781      12.496092      10.516424  118.841690   \n",
       "min       0.000000   56.000000      24.000000       7.000000   14.000000   \n",
       "25%       1.000000   99.000000      62.000000      21.000000   76.750000   \n",
       "50%       2.000000  119.000000      70.000000      29.000000  125.500000   \n",
       "75%       5.000000  143.000000      78.000000      37.000000  190.000000   \n",
       "max      17.000000  198.000000     110.000000      63.000000  846.000000   \n",
       "\n",
       "              BMI  DiabetesPedigreeFunction         Age     Outcome  \n",
       "count  392.000000                392.000000  392.000000  392.000000  \n",
       "mean    33.086224                  0.523046   30.864796    0.331633  \n",
       "std      7.027659                  0.345488   10.200777    0.471401  \n",
       "min     18.200000                  0.085000   21.000000    0.000000  \n",
       "25%     28.400000                  0.269750   23.000000    0.000000  \n",
       "50%     33.200000                  0.449500   27.000000    0.000000  \n",
       "75%     37.100000                  0.687000   36.000000    1.000000  \n",
       "max     67.100000                  2.420000   81.000000    1.000000  "
      ]
     },
     "execution_count": 8,
     "metadata": {},
     "output_type": "execute_result"
    }
   ],
   "source": [
    "# Drop the rows that has missing values\n",
    "data_frame_diabetes.dropna(inplace=True)\n",
    "data_frame_diabetes.describe()"
   ]
  },
  {
   "cell_type": "code",
   "execution_count": 9,
   "metadata": {},
   "outputs": [
    {
     "data": {
      "text/plain": [
       "(392, 9)"
      ]
     },
     "execution_count": 9,
     "metadata": {},
     "output_type": "execute_result"
    }
   ],
   "source": [
    "# Convert the dataframe to numpy array\n",
    "dataset = data_frame_diabetes.values\n",
    "dataset.shape"
   ]
  },
  {
   "cell_type": "code",
   "execution_count": 10,
   "metadata": {},
   "outputs": [],
   "source": [
    "# split into input x and output y\n",
    "X = dataset[:,0:8]\n",
    "Y = dataset[:,8].astype(int)"
   ]
  },
  {
   "cell_type": "code",
   "execution_count": 11,
   "metadata": {},
   "outputs": [
    {
     "name": "stdout",
     "output_type": "stream",
     "text": [
      "(392, 8)\n",
      "(392,)\n",
      "[0 1 1 1 1]\n"
     ]
    }
   ],
   "source": [
    "print(X.shape)\n",
    "print(Y.shape)\n",
    "print(Y[:5])"
   ]
  },
  {
   "cell_type": "code",
   "execution_count": 12,
   "metadata": {},
   "outputs": [
    {
     "data": {
      "text/html": [
       "<div>\n",
       "<style scoped>\n",
       "    .dataframe tbody tr th:only-of-type {\n",
       "        vertical-align: middle;\n",
       "    }\n",
       "\n",
       "    .dataframe tbody tr th {\n",
       "        vertical-align: top;\n",
       "    }\n",
       "\n",
       "    .dataframe thead th {\n",
       "        text-align: right;\n",
       "    }\n",
       "</style>\n",
       "<table border=\"1\" class=\"dataframe\">\n",
       "  <thead>\n",
       "    <tr style=\"text-align: right;\">\n",
       "      <th></th>\n",
       "      <th>0</th>\n",
       "      <th>1</th>\n",
       "      <th>2</th>\n",
       "      <th>3</th>\n",
       "      <th>4</th>\n",
       "      <th>5</th>\n",
       "      <th>6</th>\n",
       "      <th>7</th>\n",
       "    </tr>\n",
       "  </thead>\n",
       "  <tbody>\n",
       "    <tr>\n",
       "      <th>count</th>\n",
       "      <td>3.920000e+02</td>\n",
       "      <td>3.920000e+02</td>\n",
       "      <td>3.920000e+02</td>\n",
       "      <td>3.920000e+02</td>\n",
       "      <td>3.920000e+02</td>\n",
       "      <td>3.920000e+02</td>\n",
       "      <td>3.920000e+02</td>\n",
       "      <td>3.920000e+02</td>\n",
       "    </tr>\n",
       "    <tr>\n",
       "      <th>mean</th>\n",
       "      <td>-9.063045e-18</td>\n",
       "      <td>1.132881e-17</td>\n",
       "      <td>-4.531523e-16</td>\n",
       "      <td>1.087565e-16</td>\n",
       "      <td>1.064908e-16</td>\n",
       "      <td>1.631348e-16</td>\n",
       "      <td>1.812609e-17</td>\n",
       "      <td>1.110223e-16</td>\n",
       "    </tr>\n",
       "    <tr>\n",
       "      <th>std</th>\n",
       "      <td>1.001278e+00</td>\n",
       "      <td>1.001278e+00</td>\n",
       "      <td>1.001278e+00</td>\n",
       "      <td>1.001278e+00</td>\n",
       "      <td>1.001278e+00</td>\n",
       "      <td>1.001278e+00</td>\n",
       "      <td>1.001278e+00</td>\n",
       "      <td>1.001278e+00</td>\n",
       "    </tr>\n",
       "    <tr>\n",
       "      <th>min</th>\n",
       "      <td>-1.029213e+00</td>\n",
       "      <td>-2.161731e+00</td>\n",
       "      <td>-3.739001e+00</td>\n",
       "      <td>-2.108484e+00</td>\n",
       "      <td>-1.196867e+00</td>\n",
       "      <td>-2.120941e+00</td>\n",
       "      <td>-1.269525e+00</td>\n",
       "      <td>-9.682991e-01</td>\n",
       "    </tr>\n",
       "    <tr>\n",
       "      <th>25%</th>\n",
       "      <td>-7.174265e-01</td>\n",
       "      <td>-7.665958e-01</td>\n",
       "      <td>-6.941640e-01</td>\n",
       "      <td>-7.755315e-01</td>\n",
       "      <td>-6.681786e-01</td>\n",
       "      <td>-6.676780e-01</td>\n",
       "      <td>-7.340909e-01</td>\n",
       "      <td>-7.719850e-01</td>\n",
       "    </tr>\n",
       "    <tr>\n",
       "      <th>50%</th>\n",
       "      <td>-4.056403e-01</td>\n",
       "      <td>-1.176959e-01</td>\n",
       "      <td>-5.314565e-02</td>\n",
       "      <td>-1.384444e-02</td>\n",
       "      <td>-2.574448e-01</td>\n",
       "      <td>1.621036e-02</td>\n",
       "      <td>-2.131475e-01</td>\n",
       "      <td>-3.793569e-01</td>\n",
       "    </tr>\n",
       "    <tr>\n",
       "      <th>75%</th>\n",
       "      <td>5.297185e-01</td>\n",
       "      <td>6.609841e-01</td>\n",
       "      <td>5.878727e-01</td>\n",
       "      <td>7.478426e-01</td>\n",
       "      <td>2.859877e-01</td>\n",
       "      <td>5.718696e-01</td>\n",
       "      <td>4.751644e-01</td>\n",
       "      <td>5.040564e-01</td>\n",
       "    </tr>\n",
       "    <tr>\n",
       "      <th>max</th>\n",
       "      <td>4.271153e+00</td>\n",
       "      <td>2.445459e+00</td>\n",
       "      <td>3.151946e+00</td>\n",
       "      <td>3.223325e+00</td>\n",
       "      <td>5.812990e+00</td>\n",
       "      <td>4.846172e+00</td>\n",
       "      <td>5.497667e+00</td>\n",
       "      <td>4.921123e+00</td>\n",
       "    </tr>\n",
       "  </tbody>\n",
       "</table>\n",
       "</div>"
      ],
      "text/plain": [
       "                  0             1             2             3             4  \\\n",
       "count  3.920000e+02  3.920000e+02  3.920000e+02  3.920000e+02  3.920000e+02   \n",
       "mean  -9.063045e-18  1.132881e-17 -4.531523e-16  1.087565e-16  1.064908e-16   \n",
       "std    1.001278e+00  1.001278e+00  1.001278e+00  1.001278e+00  1.001278e+00   \n",
       "min   -1.029213e+00 -2.161731e+00 -3.739001e+00 -2.108484e+00 -1.196867e+00   \n",
       "25%   -7.174265e-01 -7.665958e-01 -6.941640e-01 -7.755315e-01 -6.681786e-01   \n",
       "50%   -4.056403e-01 -1.176959e-01 -5.314565e-02 -1.384444e-02 -2.574448e-01   \n",
       "75%    5.297185e-01  6.609841e-01  5.878727e-01  7.478426e-01  2.859877e-01   \n",
       "max    4.271153e+00  2.445459e+00  3.151946e+00  3.223325e+00  5.812990e+00   \n",
       "\n",
       "                  5             6             7  \n",
       "count  3.920000e+02  3.920000e+02  3.920000e+02  \n",
       "mean   1.631348e-16  1.812609e-17  1.110223e-16  \n",
       "std    1.001278e+00  1.001278e+00  1.001278e+00  \n",
       "min   -2.120941e+00 -1.269525e+00 -9.682991e-01  \n",
       "25%   -6.676780e-01 -7.340909e-01 -7.719850e-01  \n",
       "50%    1.621036e-02 -2.131475e-01 -3.793569e-01  \n",
       "75%    5.718696e-01  4.751644e-01  5.040564e-01  \n",
       "max    4.846172e+00  5.497667e+00  4.921123e+00  "
      ]
     },
     "execution_count": 12,
     "metadata": {},
     "output_type": "execute_result"
    }
   ],
   "source": [
    "# Normalize all the values because some values are too much larger then others\n",
    "from sklearn.preprocessing import StandardScaler\n",
    "\n",
    "scaler = StandardScaler().fit(X)\n",
    "# Transform and display the trainging data\n",
    "X_standardized = scaler.transform(X)\n",
    "data  = pd.DataFrame(X_standardized)\n",
    "data.describe()"
   ]
  },
  {
   "cell_type": "code",
   "execution_count": 13,
   "metadata": {},
   "outputs": [
    {
     "data": {
      "text/html": [
       "<div>\n",
       "<style scoped>\n",
       "    .dataframe tbody tr th:only-of-type {\n",
       "        vertical-align: middle;\n",
       "    }\n",
       "\n",
       "    .dataframe tbody tr th {\n",
       "        vertical-align: top;\n",
       "    }\n",
       "\n",
       "    .dataframe thead th {\n",
       "        text-align: right;\n",
       "    }\n",
       "</style>\n",
       "<table border=\"1\" class=\"dataframe\">\n",
       "  <thead>\n",
       "    <tr style=\"text-align: right;\">\n",
       "      <th></th>\n",
       "      <th>0</th>\n",
       "      <th>1</th>\n",
       "      <th>2</th>\n",
       "      <th>3</th>\n",
       "      <th>4</th>\n",
       "      <th>5</th>\n",
       "      <th>6</th>\n",
       "      <th>7</th>\n",
       "    </tr>\n",
       "  </thead>\n",
       "  <tbody>\n",
       "    <tr>\n",
       "      <th>count</th>\n",
       "      <td>3.920000e+02</td>\n",
       "      <td>3.920000e+02</td>\n",
       "      <td>3.920000e+02</td>\n",
       "      <td>3.920000e+02</td>\n",
       "      <td>3.920000e+02</td>\n",
       "      <td>3.920000e+02</td>\n",
       "      <td>3.920000e+02</td>\n",
       "      <td>3.920000e+02</td>\n",
       "    </tr>\n",
       "    <tr>\n",
       "      <th>mean</th>\n",
       "      <td>-9.063045e-18</td>\n",
       "      <td>1.132881e-17</td>\n",
       "      <td>-4.531523e-16</td>\n",
       "      <td>1.087565e-16</td>\n",
       "      <td>1.064908e-16</td>\n",
       "      <td>1.631348e-16</td>\n",
       "      <td>1.812609e-17</td>\n",
       "      <td>1.110223e-16</td>\n",
       "    </tr>\n",
       "    <tr>\n",
       "      <th>std</th>\n",
       "      <td>1.001278e+00</td>\n",
       "      <td>1.001278e+00</td>\n",
       "      <td>1.001278e+00</td>\n",
       "      <td>1.001278e+00</td>\n",
       "      <td>1.001278e+00</td>\n",
       "      <td>1.001278e+00</td>\n",
       "      <td>1.001278e+00</td>\n",
       "      <td>1.001278e+00</td>\n",
       "    </tr>\n",
       "    <tr>\n",
       "      <th>min</th>\n",
       "      <td>-1.029213e+00</td>\n",
       "      <td>-2.161731e+00</td>\n",
       "      <td>-3.739001e+00</td>\n",
       "      <td>-2.108484e+00</td>\n",
       "      <td>-1.196867e+00</td>\n",
       "      <td>-2.120941e+00</td>\n",
       "      <td>-1.269525e+00</td>\n",
       "      <td>-9.682991e-01</td>\n",
       "    </tr>\n",
       "    <tr>\n",
       "      <th>25%</th>\n",
       "      <td>-7.174265e-01</td>\n",
       "      <td>-7.665958e-01</td>\n",
       "      <td>-6.941640e-01</td>\n",
       "      <td>-7.755315e-01</td>\n",
       "      <td>-6.681786e-01</td>\n",
       "      <td>-6.676780e-01</td>\n",
       "      <td>-7.340909e-01</td>\n",
       "      <td>-7.719850e-01</td>\n",
       "    </tr>\n",
       "    <tr>\n",
       "      <th>50%</th>\n",
       "      <td>-4.056403e-01</td>\n",
       "      <td>-1.176959e-01</td>\n",
       "      <td>-5.314565e-02</td>\n",
       "      <td>-1.384444e-02</td>\n",
       "      <td>-2.574448e-01</td>\n",
       "      <td>1.621036e-02</td>\n",
       "      <td>-2.131475e-01</td>\n",
       "      <td>-3.793569e-01</td>\n",
       "    </tr>\n",
       "    <tr>\n",
       "      <th>75%</th>\n",
       "      <td>5.297185e-01</td>\n",
       "      <td>6.609841e-01</td>\n",
       "      <td>5.878727e-01</td>\n",
       "      <td>7.478426e-01</td>\n",
       "      <td>2.859877e-01</td>\n",
       "      <td>5.718696e-01</td>\n",
       "      <td>4.751644e-01</td>\n",
       "      <td>5.040564e-01</td>\n",
       "    </tr>\n",
       "    <tr>\n",
       "      <th>max</th>\n",
       "      <td>4.271153e+00</td>\n",
       "      <td>2.445459e+00</td>\n",
       "      <td>3.151946e+00</td>\n",
       "      <td>3.223325e+00</td>\n",
       "      <td>5.812990e+00</td>\n",
       "      <td>4.846172e+00</td>\n",
       "      <td>5.497667e+00</td>\n",
       "      <td>4.921123e+00</td>\n",
       "    </tr>\n",
       "  </tbody>\n",
       "</table>\n",
       "</div>"
      ],
      "text/plain": [
       "                  0             1             2             3             4  \\\n",
       "count  3.920000e+02  3.920000e+02  3.920000e+02  3.920000e+02  3.920000e+02   \n",
       "mean  -9.063045e-18  1.132881e-17 -4.531523e-16  1.087565e-16  1.064908e-16   \n",
       "std    1.001278e+00  1.001278e+00  1.001278e+00  1.001278e+00  1.001278e+00   \n",
       "min   -1.029213e+00 -2.161731e+00 -3.739001e+00 -2.108484e+00 -1.196867e+00   \n",
       "25%   -7.174265e-01 -7.665958e-01 -6.941640e-01 -7.755315e-01 -6.681786e-01   \n",
       "50%   -4.056403e-01 -1.176959e-01 -5.314565e-02 -1.384444e-02 -2.574448e-01   \n",
       "75%    5.297185e-01  6.609841e-01  5.878727e-01  7.478426e-01  2.859877e-01   \n",
       "max    4.271153e+00  2.445459e+00  3.151946e+00  3.223325e+00  5.812990e+00   \n",
       "\n",
       "                  5             6             7  \n",
       "count  3.920000e+02  3.920000e+02  3.920000e+02  \n",
       "mean   1.631348e-16  1.812609e-17  1.110223e-16  \n",
       "std    1.001278e+00  1.001278e+00  1.001278e+00  \n",
       "min   -2.120941e+00 -1.269525e+00 -9.682991e-01  \n",
       "25%   -6.676780e-01 -7.340909e-01 -7.719850e-01  \n",
       "50%    1.621036e-02 -2.131475e-01 -3.793569e-01  \n",
       "75%    5.718696e-01  4.751644e-01  5.040564e-01  \n",
       "max    4.846172e+00  5.497667e+00  4.921123e+00  "
      ]
     },
     "execution_count": 13,
     "metadata": {},
     "output_type": "execute_result"
    }
   ],
   "source": [
    "from sklearn.model_selection import GridSearchCV, KFold\n",
    "from keras.models import Sequential\n",
    "from keras.layers import Dense\n",
    "from keras.wrappers.scikit_learn import KerasClassifier\n",
    "from keras.optimizers import Adam\n",
    "\n",
    "data.describe()"
   ]
  },
  {
   "cell_type": "code",
   "execution_count": 14,
   "metadata": {},
   "outputs": [
    {
     "name": "stdout",
     "output_type": "stream",
     "text": [
      "_________________________________________________________________\n",
      "Layer (type)                 Output Shape              Param #   \n",
      "=================================================================\n",
      "dense_1 (Dense)              (None, 8)                 72        \n",
      "_________________________________________________________________\n",
      "dense_2 (Dense)              (None, 4)                 36        \n",
      "_________________________________________________________________\n",
      "dense_3 (Dense)              (None, 1)                 5         \n",
      "=================================================================\n",
      "Total params: 113\n",
      "Trainable params: 113\n",
      "Non-trainable params: 0\n",
      "_________________________________________________________________\n",
      "None\n"
     ]
    }
   ],
   "source": [
    "# defining the model\n",
    "def create_model():\n",
    "    #create model\n",
    "    model = Sequential()\n",
    "    # hidden layers\n",
    "    model.add(Dense(8, input_dim = 8, kernel_initializer='normal',activation = 'relu'))\n",
    "    model.add(Dense(4, input_dim = 8, kernel_initializer='normal',activation='relu'))\n",
    "    # output layer\n",
    "    model.add(Dense(1, activation='sigmoid'))\n",
    "    #compile the model\n",
    "    adam = Adam(lr = 0.01)\n",
    "    model.compile(loss = 'binary_crossentropy', optimizer = adam, metrics = ['accuracy'])\n",
    "    return model\n",
    "model = create_model()\n",
    "print(model.summary())"
   ]
  },
  {
   "cell_type": "code",
   "execution_count": 16,
   "metadata": {},
   "outputs": [
    {
     "name": "stderr",
     "output_type": "stream",
     "text": [
      "/usr/local/lib/python3.6/dist-packages/sklearn/model_selection/_split.py:431: FutureWarning: The default value of n_split will change from 3 to 5 in version 0.22. Specify it explicitly to silence this warning.\n",
      "  warnings.warn(NSPLIT_WARNING, FutureWarning)\n",
      "[Parallel(n_jobs=1)]: Using backend SequentialBackend with 1 concurrent workers.\n"
     ]
    },
    {
     "name": "stdout",
     "output_type": "stream",
     "text": [
      "Fitting 3 folds for each of 9 candidates, totalling 27 fits\n",
      "[CV] batch_size=10, epochs=10 ........................................\n",
      "[CV] ............ batch_size=10, epochs=10, score=0.725, total=   1.0s\n",
      "[CV] batch_size=10, epochs=10 ........................................\n"
     ]
    },
    {
     "name": "stderr",
     "output_type": "stream",
     "text": [
      "[Parallel(n_jobs=1)]: Done   1 out of   1 | elapsed:    1.0s remaining:    0.0s\n"
     ]
    },
    {
     "name": "stdout",
     "output_type": "stream",
     "text": [
      "[CV] ............ batch_size=10, epochs=10, score=0.771, total=   1.0s\n",
      "[CV] batch_size=10, epochs=10 ........................................\n"
     ]
    },
    {
     "name": "stderr",
     "output_type": "stream",
     "text": [
      "[Parallel(n_jobs=1)]: Done   2 out of   2 | elapsed:    2.1s remaining:    0.0s\n"
     ]
    },
    {
     "name": "stdout",
     "output_type": "stream",
     "text": [
      "[CV] ............ batch_size=10, epochs=10, score=0.823, total=   1.2s\n",
      "[CV] batch_size=10, epochs=50 ........................................\n"
     ]
    },
    {
     "name": "stderr",
     "output_type": "stream",
     "text": [
      "[Parallel(n_jobs=1)]: Done   3 out of   3 | elapsed:    3.3s remaining:    0.0s\n"
     ]
    },
    {
     "name": "stdout",
     "output_type": "stream",
     "text": [
      "[CV] ............ batch_size=10, epochs=50, score=0.733, total=   1.2s\n",
      "[CV] batch_size=10, epochs=50 ........................................\n"
     ]
    },
    {
     "name": "stderr",
     "output_type": "stream",
     "text": [
      "[Parallel(n_jobs=1)]: Done   4 out of   4 | elapsed:    4.5s remaining:    0.0s\n"
     ]
    },
    {
     "name": "stdout",
     "output_type": "stream",
     "text": [
      "[CV] ............ batch_size=10, epochs=50, score=0.779, total=   1.3s\n",
      "[CV] batch_size=10, epochs=50 ........................................\n"
     ]
    },
    {
     "name": "stderr",
     "output_type": "stream",
     "text": [
      "[Parallel(n_jobs=1)]: Done   5 out of   5 | elapsed:    5.8s remaining:    0.0s\n"
     ]
    },
    {
     "name": "stdout",
     "output_type": "stream",
     "text": [
      "[CV] ............ batch_size=10, epochs=50, score=0.846, total=   1.5s\n",
      "[CV] batch_size=10, epochs=100 .......................................\n"
     ]
    },
    {
     "name": "stderr",
     "output_type": "stream",
     "text": [
      "[Parallel(n_jobs=1)]: Done   6 out of   6 | elapsed:    7.3s remaining:    0.0s\n"
     ]
    },
    {
     "name": "stdout",
     "output_type": "stream",
     "text": [
      "[CV] ........... batch_size=10, epochs=100, score=0.718, total=   1.8s\n",
      "[CV] batch_size=10, epochs=100 .......................................\n"
     ]
    },
    {
     "name": "stderr",
     "output_type": "stream",
     "text": [
      "[Parallel(n_jobs=1)]: Done   7 out of   7 | elapsed:    9.1s remaining:    0.0s\n"
     ]
    },
    {
     "name": "stdout",
     "output_type": "stream",
     "text": [
      "[CV] ........... batch_size=10, epochs=100, score=0.725, total=   1.7s\n",
      "[CV] batch_size=10, epochs=100 .......................................\n"
     ]
    },
    {
     "name": "stderr",
     "output_type": "stream",
     "text": [
      "[Parallel(n_jobs=1)]: Done   8 out of   8 | elapsed:   10.8s remaining:    0.0s\n"
     ]
    },
    {
     "name": "stdout",
     "output_type": "stream",
     "text": [
      "[CV] ........... batch_size=10, epochs=100, score=0.823, total=   1.7s\n",
      "[CV] batch_size=20, epochs=10 ........................................\n"
     ]
    },
    {
     "name": "stderr",
     "output_type": "stream",
     "text": [
      "[Parallel(n_jobs=1)]: Done   9 out of   9 | elapsed:   12.5s remaining:    0.0s\n"
     ]
    },
    {
     "name": "stdout",
     "output_type": "stream",
     "text": [
      "[CV] ............ batch_size=20, epochs=10, score=0.756, total=   1.0s\n",
      "[CV] batch_size=20, epochs=10 ........................................\n",
      "[CV] ............ batch_size=20, epochs=10, score=0.763, total=   1.1s\n",
      "[CV] batch_size=20, epochs=10 ........................................\n",
      "[CV] ............ batch_size=20, epochs=10, score=0.838, total=   1.0s\n",
      "[CV] batch_size=20, epochs=50 ........................................\n",
      "[CV] ............ batch_size=20, epochs=50, score=0.702, total=   1.0s\n",
      "[CV] batch_size=20, epochs=50 ........................................\n",
      "[CV] ............ batch_size=20, epochs=50, score=0.771, total=   1.1s\n",
      "[CV] batch_size=20, epochs=50 ........................................\n",
      "[CV] ............ batch_size=20, epochs=50, score=0.808, total=   1.2s\n",
      "[CV] batch_size=20, epochs=100 .......................................\n",
      "[CV] ........... batch_size=20, epochs=100, score=0.756, total=   1.5s\n",
      "[CV] batch_size=20, epochs=100 .......................................\n",
      "[CV] ........... batch_size=20, epochs=100, score=0.779, total=   1.4s\n",
      "[CV] batch_size=20, epochs=100 .......................................\n",
      "[CV] ........... batch_size=20, epochs=100, score=0.792, total=   1.4s\n",
      "[CV] batch_size=40, epochs=10 ........................................\n",
      "[CV] ............ batch_size=40, epochs=10, score=0.718, total=   1.0s\n",
      "[CV] batch_size=40, epochs=10 ........................................\n",
      "[CV] ............ batch_size=40, epochs=10, score=0.763, total=   1.0s\n",
      "[CV] batch_size=40, epochs=10 ........................................\n",
      "[CV] ............ batch_size=40, epochs=10, score=0.700, total=   1.0s\n",
      "[CV] batch_size=40, epochs=50 ........................................\n",
      "[CV] ............ batch_size=40, epochs=50, score=0.702, total=   1.1s\n",
      "[CV] batch_size=40, epochs=50 ........................................\n",
      "[CV] ............ batch_size=40, epochs=50, score=0.779, total=   1.0s\n",
      "[CV] batch_size=40, epochs=50 ........................................\n",
      "[CV] ............ batch_size=40, epochs=50, score=0.846, total=   1.1s\n",
      "[CV] batch_size=40, epochs=100 .......................................\n",
      "[CV] ........... batch_size=40, epochs=100, score=0.702, total=   1.2s\n",
      "[CV] batch_size=40, epochs=100 .......................................\n",
      "[CV] ........... batch_size=40, epochs=100, score=0.756, total=   1.2s\n",
      "[CV] batch_size=40, epochs=100 .......................................\n",
      "[CV] ........... batch_size=40, epochs=100, score=0.831, total=   1.2s\n"
     ]
    },
    {
     "name": "stderr",
     "output_type": "stream",
     "text": [
      "[Parallel(n_jobs=1)]: Done  27 out of  27 | elapsed:   33.3s finished\n",
      "/usr/local/lib/python3.6/dist-packages/sklearn/model_selection/_search.py:813: DeprecationWarning: The default of the `iid` parameter will change from True to False in version 0.22 and will be removed in 0.24. This will change numeric results when test-set sizes are unequal.\n",
      "  DeprecationWarning)\n"
     ]
    },
    {
     "name": "stdout",
     "output_type": "stream",
     "text": [
      "Best : 0.7857142917963923, using {'batch_size': 20, 'epochs': 10} \n",
      " 0.7729591812406268 , 0.03996033894334982, {'batch_size': 10, 'epochs': 10} \n",
      " 0.7857142817609164 , 0.046508596950667946, {'batch_size': 10, 'epochs': 50} \n",
      " 0.7551020386875892 , 0.04798325747422201, {'batch_size': 10, 'epochs': 100} \n",
      " 0.7857142917963923 , 0.0372861071952023, {'batch_size': 20, 'epochs': 10} \n",
      " 0.7602040869544964 , 0.043676457630137215, {'batch_size': 20, 'epochs': 50} \n",
      " 0.7755102061343436 , 0.015087460434070294, {'batch_size': 20, 'epochs': 100} \n",
      " 0.7270408113087926 , 0.02670831713062866, {'batch_size': 40, 'epochs': 10} \n",
      " 0.7755102054501066 , 0.058735728787621615, {'batch_size': 40, 'epochs': 50} \n",
      " 0.7627551079708703 , 0.05265361568814188, {'batch_size': 40, 'epochs': 100} \n"
     ]
    }
   ],
   "source": [
    "seed = 6\n",
    "np.random.seed(seed)\n",
    "def create_model():\n",
    "    #create model\n",
    "    model = Sequential()\n",
    "    # hidden layers\n",
    "    model.add(Dense(8, input_dim = 8, kernel_initializer='normal',activation = 'relu'))\n",
    "    model.add(Dense(4, input_dim = 8, kernel_initializer='normal',activation='relu'))\n",
    "    # output layer\n",
    "    model.add(Dense(1, activation='sigmoid'))\n",
    "    #compile the model\n",
    "    adam = Adam(lr = 0.01)\n",
    "    model.compile(loss = 'binary_crossentropy', optimizer = adam, metrics = ['accuracy'])\n",
    "    return model\n",
    "# Create the model\n",
    "keras_classifier = KerasClassifier(build_fn=create_model, verbose = 0)\n",
    "\n",
    "# Define the grid search parameter\n",
    "batch_size = [10, 20, 40]\n",
    "epochs = [10, 50, 100]\n",
    "\n",
    "# Make a dict\n",
    "param_grid = dict(batch_size = batch_size, epochs = epochs)\n",
    "\n",
    "# Build and fit the grid search \n",
    "grid = GridSearchCV(estimator = keras_classifier, param_grid = param_grid, cv = KFold(random_state=seed), verbose = 10)\n",
    "\n",
    "grid_result = grid.fit(X_standardized, Y)\n",
    "\n",
    "# Summarize the results \n",
    "print('Best : {0}, using {1} '.format(grid_result.best_score_, grid_result.best_params_))\n",
    "\n",
    "means = grid_result.cv_results_['mean_test_score']\n",
    "stds = grid_result.cv_results_['std_test_score']\n",
    "params = grid_result.cv_results_['params']\n",
    "\n",
    "for mean, std, param in zip(means, stds, params):\n",
    "    print(' {0} , {1}, {2} '.format(mean, std, param))\n"
   ]
  },
  {
   "cell_type": "code",
   "execution_count": 22,
   "metadata": {},
   "outputs": [
    {
     "name": "stdout",
     "output_type": "stream",
     "text": [
      "Fitting 3 folds for each of 9 candidates, totalling 27 fits\n",
      "[CV] dropout_rate=0.0, learn_rate=0.001 ..............................\n"
     ]
    },
    {
     "name": "stderr",
     "output_type": "stream",
     "text": [
      "[Parallel(n_jobs=1)]: Using backend SequentialBackend with 1 concurrent workers.\n"
     ]
    },
    {
     "name": "stdout",
     "output_type": "stream",
     "text": [
      "[CV] .. dropout_rate=0.0, learn_rate=0.001, score=0.718, total=   1.1s\n",
      "[CV] dropout_rate=0.0, learn_rate=0.001 ..............................\n"
     ]
    },
    {
     "name": "stderr",
     "output_type": "stream",
     "text": [
      "[Parallel(n_jobs=1)]: Done   1 out of   1 | elapsed:    1.1s remaining:    0.0s\n"
     ]
    },
    {
     "name": "stdout",
     "output_type": "stream",
     "text": [
      "[CV] .. dropout_rate=0.0, learn_rate=0.001, score=0.718, total=   1.0s\n",
      "[CV] dropout_rate=0.0, learn_rate=0.001 ..............................\n"
     ]
    },
    {
     "name": "stderr",
     "output_type": "stream",
     "text": [
      "[Parallel(n_jobs=1)]: Done   2 out of   2 | elapsed:    2.1s remaining:    0.0s\n"
     ]
    },
    {
     "name": "stdout",
     "output_type": "stream",
     "text": [
      "[CV] .. dropout_rate=0.0, learn_rate=0.001, score=0.808, total=   0.9s\n",
      "[CV] dropout_rate=0.0, learn_rate=0.01 ...............................\n"
     ]
    },
    {
     "name": "stderr",
     "output_type": "stream",
     "text": [
      "[Parallel(n_jobs=1)]: Done   3 out of   3 | elapsed:    3.0s remaining:    0.0s\n"
     ]
    },
    {
     "name": "stdout",
     "output_type": "stream",
     "text": [
      "[CV] ... dropout_rate=0.0, learn_rate=0.01, score=0.725, total=   1.0s\n",
      "[CV] dropout_rate=0.0, learn_rate=0.01 ...............................\n"
     ]
    },
    {
     "name": "stderr",
     "output_type": "stream",
     "text": [
      "[Parallel(n_jobs=1)]: Done   4 out of   4 | elapsed:    4.0s remaining:    0.0s\n"
     ]
    },
    {
     "name": "stdout",
     "output_type": "stream",
     "text": [
      "[CV] ... dropout_rate=0.0, learn_rate=0.01, score=0.748, total=   1.2s\n",
      "[CV] dropout_rate=0.0, learn_rate=0.01 ...............................\n"
     ]
    },
    {
     "name": "stderr",
     "output_type": "stream",
     "text": [
      "[Parallel(n_jobs=1)]: Done   5 out of   5 | elapsed:    5.2s remaining:    0.0s\n"
     ]
    },
    {
     "name": "stdout",
     "output_type": "stream",
     "text": [
      "[CV] ... dropout_rate=0.0, learn_rate=0.01, score=0.838, total=   0.9s\n",
      "[CV] dropout_rate=0.0, learn_rate=0.1 ................................\n"
     ]
    },
    {
     "name": "stderr",
     "output_type": "stream",
     "text": [
      "[Parallel(n_jobs=1)]: Done   6 out of   6 | elapsed:    6.1s remaining:    0.0s\n"
     ]
    },
    {
     "name": "stdout",
     "output_type": "stream",
     "text": [
      "[CV] .... dropout_rate=0.0, learn_rate=0.1, score=0.725, total=   1.1s\n",
      "[CV] dropout_rate=0.0, learn_rate=0.1 ................................\n"
     ]
    },
    {
     "name": "stderr",
     "output_type": "stream",
     "text": [
      "[Parallel(n_jobs=1)]: Done   7 out of   7 | elapsed:    7.2s remaining:    0.0s\n"
     ]
    },
    {
     "name": "stdout",
     "output_type": "stream",
     "text": [
      "[CV] .... dropout_rate=0.0, learn_rate=0.1, score=0.763, total=   0.9s\n",
      "[CV] dropout_rate=0.0, learn_rate=0.1 ................................\n"
     ]
    },
    {
     "name": "stderr",
     "output_type": "stream",
     "text": [
      "[Parallel(n_jobs=1)]: Done   8 out of   8 | elapsed:    8.2s remaining:    0.0s\n"
     ]
    },
    {
     "name": "stdout",
     "output_type": "stream",
     "text": [
      "[CV] .... dropout_rate=0.0, learn_rate=0.1, score=0.838, total=   1.2s\n",
      "[CV] dropout_rate=0.1, learn_rate=0.001 ..............................\n"
     ]
    },
    {
     "name": "stderr",
     "output_type": "stream",
     "text": [
      "[Parallel(n_jobs=1)]: Done   9 out of   9 | elapsed:    9.3s remaining:    0.0s\n"
     ]
    },
    {
     "name": "stdout",
     "output_type": "stream",
     "text": [
      "[CV] .. dropout_rate=0.1, learn_rate=0.001, score=0.664, total=   6.4s\n",
      "[CV] dropout_rate=0.1, learn_rate=0.001 ..............................\n",
      "[CV] .. dropout_rate=0.1, learn_rate=0.001, score=0.763, total=   1.1s\n",
      "[CV] dropout_rate=0.1, learn_rate=0.001 ..............................\n",
      "[CV] .. dropout_rate=0.1, learn_rate=0.001, score=0.785, total=   1.3s\n",
      "[CV] dropout_rate=0.1, learn_rate=0.01 ...............................\n",
      "[CV] ... dropout_rate=0.1, learn_rate=0.01, score=0.725, total=   1.3s\n",
      "[CV] dropout_rate=0.1, learn_rate=0.01 ...............................\n",
      "[CV] ... dropout_rate=0.1, learn_rate=0.01, score=0.763, total=   1.2s\n",
      "[CV] dropout_rate=0.1, learn_rate=0.01 ...............................\n",
      "[CV] ... dropout_rate=0.1, learn_rate=0.01, score=0.800, total=   1.2s\n",
      "[CV] dropout_rate=0.1, learn_rate=0.1 ................................\n",
      "[CV] .... dropout_rate=0.1, learn_rate=0.1, score=0.748, total=   1.2s\n",
      "[CV] dropout_rate=0.1, learn_rate=0.1 ................................\n",
      "[CV] .... dropout_rate=0.1, learn_rate=0.1, score=0.771, total=   1.2s\n",
      "[CV] dropout_rate=0.1, learn_rate=0.1 ................................\n",
      "[CV] .... dropout_rate=0.1, learn_rate=0.1, score=0.846, total=   1.0s\n",
      "[CV] dropout_rate=0.2, learn_rate=0.001 ..............................\n",
      "[CV] .. dropout_rate=0.2, learn_rate=0.001, score=0.718, total=   1.2s\n",
      "[CV] dropout_rate=0.2, learn_rate=0.001 ..............................\n",
      "[CV] .. dropout_rate=0.2, learn_rate=0.001, score=0.718, total=   1.2s\n",
      "[CV] dropout_rate=0.2, learn_rate=0.001 ..............................\n",
      "[CV] .. dropout_rate=0.2, learn_rate=0.001, score=0.777, total=   1.0s\n",
      "[CV] dropout_rate=0.2, learn_rate=0.01 ...............................\n",
      "[CV] ... dropout_rate=0.2, learn_rate=0.01, score=0.733, total=   1.2s\n",
      "[CV] dropout_rate=0.2, learn_rate=0.01 ...............................\n",
      "[CV] ... dropout_rate=0.2, learn_rate=0.01, score=0.740, total=   1.3s\n",
      "[CV] dropout_rate=0.2, learn_rate=0.01 ...............................\n",
      "[CV] ... dropout_rate=0.2, learn_rate=0.01, score=0.700, total=   1.1s\n",
      "[CV] dropout_rate=0.2, learn_rate=0.1 ................................\n",
      "[CV] .... dropout_rate=0.2, learn_rate=0.1, score=0.611, total=   1.6s\n",
      "[CV] dropout_rate=0.2, learn_rate=0.1 ................................\n",
      "[CV] .... dropout_rate=0.2, learn_rate=0.1, score=0.756, total=   1.4s\n",
      "[CV] dropout_rate=0.2, learn_rate=0.1 ................................\n",
      "[CV] .... dropout_rate=0.2, learn_rate=0.1, score=0.815, total=   1.3s\n"
     ]
    },
    {
     "name": "stderr",
     "output_type": "stream",
     "text": [
      "[Parallel(n_jobs=1)]: Done  27 out of  27 | elapsed:   36.7s finished\n",
      "/usr/local/lib/python3.6/dist-packages/sklearn/model_selection/_search.py:813: DeprecationWarning: The default of the `iid` parameter will change from True to False in version 0.22 and will be removed in 0.24. This will change numeric results when test-set sizes are unequal.\n",
      "  DeprecationWarning)\n"
     ]
    },
    {
     "name": "stdout",
     "output_type": "stream",
     "text": [
      "Best : 0.7882653062745016, using {'dropout_rate': 0.1, 'learn_rate': 0.1} \n",
      " 0.7474489811123634 , 0.04243556048075224, {'dropout_rate': 0.0, 'learn_rate': 0.001} \n",
      " 0.7704081670666227 , 0.04884245247274631, {'dropout_rate': 0.0, 'learn_rate': 0.01} \n",
      " 0.7755102072747386 , 0.047007743195658765, {'dropout_rate': 0.0, 'learn_rate': 0.1} \n",
      " 0.7372449011522897 , 0.05252544251178863, {'dropout_rate': 0.1, 'learn_rate': 0.001} \n",
      " 0.7627551055380276 , 0.030524003086167706, {'dropout_rate': 0.1, 'learn_rate': 0.01} \n",
      " 0.7882653062745016 , 0.04183756638247275, {'dropout_rate': 0.1, 'learn_rate': 0.1} \n",
      " 0.737244899631763 , 0.02794941769941659, {'dropout_rate': 0.2, 'learn_rate': 0.001} \n",
      " 0.7244897933334721 , 0.017530627349477787, {'dropout_rate': 0.2, 'learn_rate': 0.01} \n",
      " 0.7270408202798999 , 0.08595045604557942, {'dropout_rate': 0.2, 'learn_rate': 0.1} \n"
     ]
    }
   ],
   "source": [
    "from keras.layers import Dropout\n",
    "seed = 6\n",
    "np.random.seed(seed)\n",
    "def create_model(learn_rate, dropout_rate):\n",
    "    #create model\n",
    "    model = Sequential()\n",
    "    # hidden layers\n",
    "    model.add(Dense(8, input_dim = 8, kernel_initializer='normal',activation = 'relu'))\n",
    "    model.add(Dropout(dropout_rate))\n",
    "    model.add(Dense(4, input_dim = 8, kernel_initializer='normal',activation='relu'))\n",
    "    model.add(Dropout(dropout_rate))\n",
    "    # output layer\n",
    "    model.add(Dense(1, activation='sigmoid'))\n",
    "    \n",
    "    #compile the model\n",
    "    adam = Adam(lr = learn_rate)\n",
    "    model.compile(loss = 'binary_crossentropy', optimizer = adam, metrics = ['accuracy'])\n",
    "    return model\n",
    "# Create the model\n",
    "keras_classifier = KerasClassifier(build_fn=create_model,batch_size = 20, epochs = 10, verbose = 0)\n",
    "\n",
    "# Define the grid search parameter\n",
    "learn_rate = [0.001, 0.01, 0.1]\n",
    "dropout_rate = [0.0, 0.1, 0.2]\n",
    "\n",
    "\n",
    "# Make a dict\n",
    "param_grid = dict(learn_rate = learn_rate, dropout_rate = dropout_rate)\n",
    "\n",
    "# Build and fit the grid search \n",
    "grid = GridSearchCV(estimator = keras_classifier, param_grid = param_grid, cv = KFold(random_state = seed), verbose = 10)\n",
    "grid_result = grid.fit(X_standardized, Y)\n",
    "\n",
    "# Summarize the results \n",
    "print('Best : {0}, using {1} '.format(grid_result.best_score_, grid_result.best_params_))\n",
    "\n",
    "means = grid_result.cv_results_['mean_test_score']\n",
    "stds = grid_result.cv_results_['std_test_score']\n",
    "params = grid_result.cv_results_['params']\n",
    "\n",
    "for mean, std, param in zip(means, stds, params):\n",
    "    print(' {0} , {1}, {2} '.format(mean, std, param))\n"
   ]
  },
  {
   "cell_type": "code",
   "execution_count": 28,
   "metadata": {},
   "outputs": [
    {
     "name": "stderr",
     "output_type": "stream",
     "text": [
      "/usr/local/lib/python3.6/dist-packages/sklearn/model_selection/_split.py:431: FutureWarning: The default value of n_split will change from 3 to 5 in version 0.22. Specify it explicitly to silence this warning.\n",
      "  warnings.warn(NSPLIT_WARNING, FutureWarning)\n",
      "[Parallel(n_jobs=1)]: Using backend SequentialBackend with 1 concurrent workers.\n"
     ]
    },
    {
     "name": "stdout",
     "output_type": "stream",
     "text": [
      "Fitting 3 folds for each of 12 candidates, totalling 36 fits\n",
      "[CV] activation=relu, init=uniform ...................................\n",
      "[CV] ....... activation=relu, init=uniform, score=0.733, total=   1.1s\n",
      "[CV] activation=relu, init=uniform ...................................\n"
     ]
    },
    {
     "name": "stderr",
     "output_type": "stream",
     "text": [
      "[Parallel(n_jobs=1)]: Done   1 out of   1 | elapsed:    1.1s remaining:    0.0s\n"
     ]
    },
    {
     "name": "stdout",
     "output_type": "stream",
     "text": [
      "[CV] ....... activation=relu, init=uniform, score=0.771, total=   1.3s\n",
      "[CV] activation=relu, init=uniform ...................................\n"
     ]
    },
    {
     "name": "stderr",
     "output_type": "stream",
     "text": [
      "[Parallel(n_jobs=1)]: Done   2 out of   2 | elapsed:    2.5s remaining:    0.0s\n"
     ]
    },
    {
     "name": "stdout",
     "output_type": "stream",
     "text": [
      "[CV] ....... activation=relu, init=uniform, score=0.831, total=   1.5s\n",
      "[CV] activation=relu, init=normal ....................................\n"
     ]
    },
    {
     "name": "stderr",
     "output_type": "stream",
     "text": [
      "[Parallel(n_jobs=1)]: Done   3 out of   3 | elapsed:    3.9s remaining:    0.0s\n"
     ]
    },
    {
     "name": "stdout",
     "output_type": "stream",
     "text": [
      "[CV] ........ activation=relu, init=normal, score=0.718, total=   1.2s\n",
      "[CV] activation=relu, init=normal ....................................\n"
     ]
    },
    {
     "name": "stderr",
     "output_type": "stream",
     "text": [
      "[Parallel(n_jobs=1)]: Done   4 out of   4 | elapsed:    5.2s remaining:    0.0s\n"
     ]
    },
    {
     "name": "stdout",
     "output_type": "stream",
     "text": [
      "[CV] ........ activation=relu, init=normal, score=0.756, total=   1.5s\n",
      "[CV] activation=relu, init=normal ....................................\n"
     ]
    },
    {
     "name": "stderr",
     "output_type": "stream",
     "text": [
      "[Parallel(n_jobs=1)]: Done   5 out of   5 | elapsed:    6.7s remaining:    0.0s\n"
     ]
    },
    {
     "name": "stdout",
     "output_type": "stream",
     "text": [
      "[CV] ........ activation=relu, init=normal, score=0.862, total=   1.2s\n",
      "[CV] activation=relu, init=zero ......................................\n"
     ]
    },
    {
     "name": "stderr",
     "output_type": "stream",
     "text": [
      "[Parallel(n_jobs=1)]: Done   6 out of   6 | elapsed:    7.9s remaining:    0.0s\n"
     ]
    },
    {
     "name": "stdout",
     "output_type": "stream",
     "text": [
      "[CV] .......... activation=relu, init=zero, score=0.611, total=   1.0s\n",
      "[CV] activation=relu, init=zero ......................................\n"
     ]
    },
    {
     "name": "stderr",
     "output_type": "stream",
     "text": [
      "[Parallel(n_jobs=1)]: Done   7 out of   7 | elapsed:    8.8s remaining:    0.0s\n"
     ]
    },
    {
     "name": "stdout",
     "output_type": "stream",
     "text": [
      "[CV] .......... activation=relu, init=zero, score=0.695, total=   1.3s\n",
      "[CV] activation=relu, init=zero ......................................\n"
     ]
    },
    {
     "name": "stderr",
     "output_type": "stream",
     "text": [
      "[Parallel(n_jobs=1)]: Done   8 out of   8 | elapsed:   10.1s remaining:    0.0s\n"
     ]
    },
    {
     "name": "stdout",
     "output_type": "stream",
     "text": [
      "[CV] .......... activation=relu, init=zero, score=0.700, total=   1.0s\n",
      "[CV] activation=softmax, init=uniform ................................\n"
     ]
    },
    {
     "name": "stderr",
     "output_type": "stream",
     "text": [
      "[Parallel(n_jobs=1)]: Done   9 out of   9 | elapsed:   11.2s remaining:    0.0s\n"
     ]
    },
    {
     "name": "stdout",
     "output_type": "stream",
     "text": [
      "[CV] .... activation=softmax, init=uniform, score=0.725, total=   1.0s\n",
      "[CV] activation=softmax, init=uniform ................................\n",
      "[CV] .... activation=softmax, init=uniform, score=0.756, total=   1.3s\n",
      "[CV] activation=softmax, init=uniform ................................\n",
      "[CV] .... activation=softmax, init=uniform, score=0.823, total=   1.0s\n",
      "[CV] activation=softmax, init=normal .................................\n",
      "[CV] ..... activation=softmax, init=normal, score=0.687, total=   1.4s\n",
      "[CV] activation=softmax, init=normal .................................\n",
      "[CV] ..... activation=softmax, init=normal, score=0.763, total=   1.1s\n",
      "[CV] activation=softmax, init=normal .................................\n",
      "[CV] ..... activation=softmax, init=normal, score=0.823, total=   1.1s\n",
      "[CV] activation=softmax, init=zero ...................................\n",
      "[CV] ....... activation=softmax, init=zero, score=0.611, total=   1.3s\n",
      "[CV] activation=softmax, init=zero ...................................\n",
      "[CV] ....... activation=softmax, init=zero, score=0.695, total=   0.9s\n",
      "[CV] activation=softmax, init=zero ...................................\n",
      "[CV] ....... activation=softmax, init=zero, score=0.700, total=   0.9s\n",
      "[CV] activation=tanh, init=uniform ...................................\n",
      "[CV] ....... activation=tanh, init=uniform, score=0.756, total=   1.3s\n",
      "[CV] activation=tanh, init=uniform ...................................\n",
      "[CV] ....... activation=tanh, init=uniform, score=0.771, total=   1.0s\n",
      "[CV] activation=tanh, init=uniform ...................................\n",
      "[CV] ....... activation=tanh, init=uniform, score=0.831, total=   1.0s\n",
      "[CV] activation=tanh, init=normal ....................................\n",
      "[CV] ........ activation=tanh, init=normal, score=0.763, total=   1.5s\n",
      "[CV] activation=tanh, init=normal ....................................\n",
      "[CV] ........ activation=tanh, init=normal, score=0.779, total=   1.2s\n",
      "[CV] activation=tanh, init=normal ....................................\n",
      "[CV] ........ activation=tanh, init=normal, score=0.831, total=   1.1s\n",
      "[CV] activation=tanh, init=zero ......................................\n",
      "[CV] .......... activation=tanh, init=zero, score=0.611, total=   1.3s\n",
      "[CV] activation=tanh, init=zero ......................................\n",
      "[CV] .......... activation=tanh, init=zero, score=0.695, total=   1.0s\n",
      "[CV] activation=tanh, init=zero ......................................\n",
      "[CV] .......... activation=tanh, init=zero, score=0.700, total=   1.0s\n",
      "[CV] activation=linear, init=uniform .................................\n",
      "[CV] ..... activation=linear, init=uniform, score=0.771, total=   1.3s\n",
      "[CV] activation=linear, init=uniform .................................\n",
      "[CV] ..... activation=linear, init=uniform, score=0.763, total=   1.0s\n",
      "[CV] activation=linear, init=uniform .................................\n",
      "[CV] ..... activation=linear, init=uniform, score=0.846, total=   1.0s\n",
      "[CV] activation=linear, init=normal ..................................\n",
      "[CV] ...... activation=linear, init=normal, score=0.771, total=   1.5s\n",
      "[CV] activation=linear, init=normal ..................................\n",
      "[CV] ...... activation=linear, init=normal, score=0.763, total=   1.1s\n",
      "[CV] activation=linear, init=normal ..................................\n",
      "[CV] ...... activation=linear, init=normal, score=0.831, total=   1.4s\n",
      "[CV] activation=linear, init=zero ....................................\n",
      "[CV] ........ activation=linear, init=zero, score=0.611, total=   0.9s\n",
      "[CV] activation=linear, init=zero ....................................\n",
      "[CV] ........ activation=linear, init=zero, score=0.695, total=   0.9s\n",
      "[CV] activation=linear, init=zero ....................................\n",
      "[CV] ........ activation=linear, init=zero, score=0.700, total=   1.2s\n"
     ]
    },
    {
     "name": "stderr",
     "output_type": "stream",
     "text": [
      "[Parallel(n_jobs=1)]: Done  36 out of  36 | elapsed:   41.8s finished\n",
      "/usr/local/lib/python3.6/dist-packages/sklearn/model_selection/_search.py:813: DeprecationWarning: The default of the `iid` parameter will change from True to False in version 0.22 and will be removed in 0.24. This will change numeric results when test-set sizes are unequal.\n",
      "  DeprecationWarning)\n"
     ]
    },
    {
     "name": "stdout",
     "output_type": "stream",
     "text": [
      "Best : 0.7933673531729348, using {'activation': 'linear', 'init': 'uniform'} \n",
      " 0.7780612301157446 , 0.040272587812829816, {'activation': 'relu', 'init': 'uniform'} \n",
      " 0.7780612301157446 , 0.06083621708962367, {'activation': 'relu', 'init': 'normal'} \n",
      " 0.6683673458744068 , 0.040922317011154695, {'activation': 'relu', 'init': 'zero'} \n",
      " 0.7678571487871968 , 0.040850474130505084, {'activation': 'softmax', 'init': 'uniform'} \n",
      " 0.7576530680668597 , 0.05565497206538688, {'activation': 'softmax', 'init': 'normal'} \n",
      " 0.6683673458744068 , 0.040922317011154695, {'activation': 'softmax', 'init': 'zero'} \n",
      " 0.7857142931648663 , 0.032344597410169845, {'activation': 'tanh', 'init': 'uniform'} \n",
      " 0.7908163321565609 , 0.02882657345169521, {'activation': 'tanh', 'init': 'normal'} \n",
      " 0.6683673458744068 , 0.040922317011154695, {'activation': 'tanh', 'init': 'zero'} \n",
      " 0.7933673531729348 , 0.037313655933021314, {'activation': 'linear', 'init': 'uniform'} \n",
      " 0.7882653080991336 , 0.030102047419290692, {'activation': 'linear', 'init': 'normal'} \n",
      " 0.6683673458744068 , 0.040922317011154695, {'activation': 'linear', 'init': 'zero'} \n"
     ]
    }
   ],
   "source": [
    "from keras.layers import Dropout\n",
    "seed = 6\n",
    "np.random.seed(seed)\n",
    "def create_model(activation, init):\n",
    "    #create model\n",
    "    model = Sequential()\n",
    "    # hidden layers\n",
    "    model.add(Dense(8, input_dim = 8, kernel_initializer= init,activation = activation))\n",
    "#     model.add(Dropout(0.1))\n",
    "    model.add(Dense(4, input_dim = 8, kernel_initializer= init,activation= activation))\n",
    "#     model.add(Dropout(0.1))\n",
    "    # output layer\n",
    "    model.add(Dense(1, activation='sigmoid'))\n",
    "    \n",
    "    #compile the model\n",
    "    adam = Adam(lr = 0.001)\n",
    "    model.compile(loss = 'binary_crossentropy', optimizer = adam, metrics = ['accuracy'])\n",
    "    return model\n",
    "# Create the model\n",
    "keras_classifier = KerasClassifier(build_fn=create_model,batch_size = 20, epochs = 100,verbose = 0)\n",
    "\n",
    "# Define the grid search parameter\n",
    "activation = ['relu','softmax', 'tanh','linear']\n",
    "init = ['uniform','normal','zero']\n",
    "\n",
    "# Make a dict\n",
    "param_grid = dict(activation = activation, init = init)\n",
    "\n",
    "# Build and fit the grid search \n",
    "grid = GridSearchCV(estimator = keras_classifier, param_grid = param_grid, cv = KFold(random_state = seed), verbose = 10)\n",
    "grid_result = grid.fit(X_standardized, Y)\n",
    "\n",
    "# Summarize the results \n",
    "print('Best : {0}, using {1} '.format(grid_result.best_score_, grid_result.best_params_))\n",
    "\n",
    "means = grid_result.cv_results_['mean_test_score']\n",
    "stds = grid_result.cv_results_['std_test_score']\n",
    "params = grid_result.cv_results_['params']\n",
    "\n",
    "for mean, std, param in zip(means, stds, params):\n",
    "    print(' {0} , {1}, {2} '.format(mean, std, param))\n"
   ]
  },
  {
   "cell_type": "code",
   "execution_count": 33,
   "metadata": {},
   "outputs": [
    {
     "name": "stdout",
     "output_type": "stream",
     "text": [
      "Fitting 3 folds for each of 36 candidates, totalling 108 fits\n",
      "[CV] neuron_1=4, neuron_2=2 ..........................................\n"
     ]
    },
    {
     "name": "stderr",
     "output_type": "stream",
     "text": [
      "[Parallel(n_jobs=1)]: Using backend SequentialBackend with 1 concurrent workers.\n"
     ]
    },
    {
     "name": "stdout",
     "output_type": "stream",
     "text": [
      "[CV] .............. neuron_1=4, neuron_2=2, score=0.756, total=   0.7s\n",
      "[CV] neuron_1=4, neuron_2=2 ..........................................\n"
     ]
    },
    {
     "name": "stderr",
     "output_type": "stream",
     "text": [
      "[Parallel(n_jobs=1)]: Done   1 out of   1 | elapsed:    0.7s remaining:    0.0s\n"
     ]
    },
    {
     "name": "stdout",
     "output_type": "stream",
     "text": [
      "[CV] .............. neuron_1=4, neuron_2=2, score=0.756, total=   0.7s\n",
      "[CV] neuron_1=4, neuron_2=2 ..........................................\n"
     ]
    },
    {
     "name": "stderr",
     "output_type": "stream",
     "text": [
      "[Parallel(n_jobs=1)]: Done   2 out of   2 | elapsed:    1.3s remaining:    0.0s\n"
     ]
    },
    {
     "name": "stdout",
     "output_type": "stream",
     "text": [
      "[CV] .............. neuron_1=4, neuron_2=2, score=0.815, total=   1.0s\n",
      "[CV] neuron_1=4, neuron_2=4 ..........................................\n"
     ]
    },
    {
     "name": "stderr",
     "output_type": "stream",
     "text": [
      "[Parallel(n_jobs=1)]: Done   3 out of   3 | elapsed:    2.4s remaining:    0.0s\n"
     ]
    },
    {
     "name": "stdout",
     "output_type": "stream",
     "text": [
      "[CV] .............. neuron_1=4, neuron_2=4, score=0.702, total=   0.7s\n",
      "[CV] neuron_1=4, neuron_2=4 ..........................................\n"
     ]
    },
    {
     "name": "stderr",
     "output_type": "stream",
     "text": [
      "[Parallel(n_jobs=1)]: Done   4 out of   4 | elapsed:    3.0s remaining:    0.0s\n"
     ]
    },
    {
     "name": "stdout",
     "output_type": "stream",
     "text": [
      "[CV] .............. neuron_1=4, neuron_2=4, score=0.756, total=   0.8s\n",
      "[CV] neuron_1=4, neuron_2=4 ..........................................\n"
     ]
    },
    {
     "name": "stderr",
     "output_type": "stream",
     "text": [
      "[Parallel(n_jobs=1)]: Done   5 out of   5 | elapsed:    3.8s remaining:    0.0s\n"
     ]
    },
    {
     "name": "stdout",
     "output_type": "stream",
     "text": [
      "[CV] .............. neuron_1=4, neuron_2=4, score=0.831, total=   1.0s\n",
      "[CV] neuron_1=4, neuron_2=8 ..........................................\n"
     ]
    },
    {
     "name": "stderr",
     "output_type": "stream",
     "text": [
      "[Parallel(n_jobs=1)]: Done   6 out of   6 | elapsed:    4.8s remaining:    0.0s\n"
     ]
    },
    {
     "name": "stdout",
     "output_type": "stream",
     "text": [
      "[CV] .............. neuron_1=4, neuron_2=8, score=0.733, total=   0.7s\n",
      "[CV] neuron_1=4, neuron_2=8 ..........................................\n"
     ]
    },
    {
     "name": "stderr",
     "output_type": "stream",
     "text": [
      "[Parallel(n_jobs=1)]: Done   7 out of   7 | elapsed:    5.5s remaining:    0.0s\n"
     ]
    },
    {
     "name": "stdout",
     "output_type": "stream",
     "text": [
      "[CV] .............. neuron_1=4, neuron_2=8, score=0.771, total=   0.7s\n",
      "[CV] neuron_1=4, neuron_2=8 ..........................................\n"
     ]
    },
    {
     "name": "stderr",
     "output_type": "stream",
     "text": [
      "[Parallel(n_jobs=1)]: Done   8 out of   8 | elapsed:    6.1s remaining:    0.0s\n"
     ]
    },
    {
     "name": "stdout",
     "output_type": "stream",
     "text": [
      "[CV] .............. neuron_1=4, neuron_2=8, score=0.838, total=   1.0s\n",
      "[CV] neuron_1=4, neuron_2=10 .........................................\n"
     ]
    },
    {
     "name": "stderr",
     "output_type": "stream",
     "text": [
      "[Parallel(n_jobs=1)]: Done   9 out of   9 | elapsed:    7.1s remaining:    0.0s\n"
     ]
    },
    {
     "name": "stdout",
     "output_type": "stream",
     "text": [
      "[CV] ............. neuron_1=4, neuron_2=10, score=0.725, total=   0.7s\n",
      "[CV] neuron_1=4, neuron_2=10 .........................................\n",
      "[CV] ............. neuron_1=4, neuron_2=10, score=0.763, total=   0.7s\n",
      "[CV] neuron_1=4, neuron_2=10 .........................................\n",
      "[CV] ............. neuron_1=4, neuron_2=10, score=0.838, total=   1.0s\n",
      "[CV] neuron_1=4, neuron_2=16 .........................................\n",
      "[CV] ............. neuron_1=4, neuron_2=16, score=0.771, total=   0.7s\n",
      "[CV] neuron_1=4, neuron_2=16 .........................................\n",
      "[CV] ............. neuron_1=4, neuron_2=16, score=0.763, total=   0.6s\n",
      "[CV] neuron_1=4, neuron_2=16 .........................................\n",
      "[CV] ............. neuron_1=4, neuron_2=16, score=0.823, total=   1.0s\n",
      "[CV] neuron_1=4, neuron_2=20 .........................................\n",
      "[CV] ............. neuron_1=4, neuron_2=20, score=0.748, total=   0.7s\n",
      "[CV] neuron_1=4, neuron_2=20 .........................................\n",
      "[CV] ............. neuron_1=4, neuron_2=20, score=0.740, total=   0.7s\n",
      "[CV] neuron_1=4, neuron_2=20 .........................................\n",
      "[CV] ............. neuron_1=4, neuron_2=20, score=0.815, total=   1.0s\n",
      "[CV] neuron_1=8, neuron_2=2 ..........................................\n",
      "[CV] .............. neuron_1=8, neuron_2=2, score=0.771, total=   0.6s\n",
      "[CV] neuron_1=8, neuron_2=2 ..........................................\n",
      "[CV] .............. neuron_1=8, neuron_2=2, score=0.763, total=   0.7s\n",
      "[CV] neuron_1=8, neuron_2=2 ..........................................\n",
      "[CV] .............. neuron_1=8, neuron_2=2, score=0.831, total=   1.1s\n",
      "[CV] neuron_1=8, neuron_2=4 ..........................................\n",
      "[CV] .............. neuron_1=8, neuron_2=4, score=0.718, total=   0.7s\n",
      "[CV] neuron_1=8, neuron_2=4 ..........................................\n",
      "[CV] .............. neuron_1=8, neuron_2=4, score=0.771, total=   0.7s\n",
      "[CV] neuron_1=8, neuron_2=4 ..........................................\n",
      "[CV] .............. neuron_1=8, neuron_2=4, score=0.823, total=   1.0s\n",
      "[CV] neuron_1=8, neuron_2=8 ..........................................\n",
      "[CV] .............. neuron_1=8, neuron_2=8, score=0.771, total=   0.7s\n",
      "[CV] neuron_1=8, neuron_2=8 ..........................................\n",
      "[CV] .............. neuron_1=8, neuron_2=8, score=0.756, total=   0.7s\n",
      "[CV] neuron_1=8, neuron_2=8 ..........................................\n",
      "[CV] .............. neuron_1=8, neuron_2=8, score=0.831, total=   1.0s\n",
      "[CV] neuron_1=8, neuron_2=10 .........................................\n",
      "[CV] ............. neuron_1=8, neuron_2=10, score=0.733, total=   0.7s\n",
      "[CV] neuron_1=8, neuron_2=10 .........................................\n",
      "[CV] ............. neuron_1=8, neuron_2=10, score=0.763, total=   0.7s\n",
      "[CV] neuron_1=8, neuron_2=10 .........................................\n",
      "[CV] ............. neuron_1=8, neuron_2=10, score=0.800, total=   0.7s\n",
      "[CV] neuron_1=8, neuron_2=16 .........................................\n",
      "[CV] ............. neuron_1=8, neuron_2=16, score=0.328, total=   1.0s\n",
      "[CV] neuron_1=8, neuron_2=16 .........................................\n",
      "[CV] ............. neuron_1=8, neuron_2=16, score=0.748, total=   0.7s\n",
      "[CV] neuron_1=8, neuron_2=16 .........................................\n",
      "[CV] ............. neuron_1=8, neuron_2=16, score=0.800, total=   0.7s\n",
      "[CV] neuron_1=8, neuron_2=20 .........................................\n",
      "[CV] ............. neuron_1=8, neuron_2=20, score=0.733, total=   1.0s\n",
      "[CV] neuron_1=8, neuron_2=20 .........................................\n",
      "[CV] ............. neuron_1=8, neuron_2=20, score=0.786, total=   0.7s\n",
      "[CV] neuron_1=8, neuron_2=20 .........................................\n",
      "[CV] ............. neuron_1=8, neuron_2=20, score=0.823, total=   1.0s\n",
      "[CV] neuron_1=16, neuron_2=2 .........................................\n",
      "[CV] ............. neuron_1=16, neuron_2=2, score=0.725, total=   1.4s\n",
      "[CV] neuron_1=16, neuron_2=2 .........................................\n",
      "[CV] ............. neuron_1=16, neuron_2=2, score=0.771, total=   0.7s\n",
      "[CV] neuron_1=16, neuron_2=2 .........................................\n",
      "[CV] ............. neuron_1=16, neuron_2=2, score=0.838, total=   1.0s\n",
      "[CV] neuron_1=16, neuron_2=4 .........................................\n",
      "[CV] ............. neuron_1=16, neuron_2=4, score=0.740, total=   0.7s\n",
      "[CV] neuron_1=16, neuron_2=4 .........................................\n",
      "[CV] ............. neuron_1=16, neuron_2=4, score=0.763, total=   0.7s\n",
      "[CV] neuron_1=16, neuron_2=4 .........................................\n",
      "[CV] ............. neuron_1=16, neuron_2=4, score=0.754, total=   0.7s\n",
      "[CV] neuron_1=16, neuron_2=8 .........................................\n",
      "[CV] ............. neuron_1=16, neuron_2=8, score=0.756, total=   1.0s\n",
      "[CV] neuron_1=16, neuron_2=8 .........................................\n",
      "[CV] ............. neuron_1=16, neuron_2=8, score=0.748, total=   0.7s\n",
      "[CV] neuron_1=16, neuron_2=8 .........................................\n",
      "[CV] ............. neuron_1=16, neuron_2=8, score=0.831, total=   0.7s\n",
      "[CV] neuron_1=16, neuron_2=10 ........................................\n",
      "[CV] ............ neuron_1=16, neuron_2=10, score=0.611, total=   1.0s\n",
      "[CV] neuron_1=16, neuron_2=10 ........................................\n",
      "[CV] ............ neuron_1=16, neuron_2=10, score=0.756, total=   0.7s\n",
      "[CV] neuron_1=16, neuron_2=10 ........................................\n",
      "[CV] ............ neuron_1=16, neuron_2=10, score=0.800, total=   0.7s\n",
      "[CV] neuron_1=16, neuron_2=16 ........................................\n",
      "[CV] ............ neuron_1=16, neuron_2=16, score=0.656, total=   1.0s\n",
      "[CV] neuron_1=16, neuron_2=16 ........................................\n",
      "[CV] ............ neuron_1=16, neuron_2=16, score=0.748, total=   0.7s\n",
      "[CV] neuron_1=16, neuron_2=16 ........................................\n",
      "[CV] ............ neuron_1=16, neuron_2=16, score=0.746, total=   1.0s\n",
      "[CV] neuron_1=16, neuron_2=20 ........................................\n",
      "[CV] ............ neuron_1=16, neuron_2=20, score=0.611, total=   0.9s\n",
      "[CV] neuron_1=16, neuron_2=20 ........................................\n",
      "[CV] ............ neuron_1=16, neuron_2=20, score=0.733, total=   0.8s\n",
      "[CV] neuron_1=16, neuron_2=20 ........................................\n",
      "[CV] ............ neuron_1=16, neuron_2=20, score=0.700, total=   1.3s\n",
      "[CV] neuron_1=18, neuron_2=2 .........................................\n",
      "[CV] ............. neuron_1=18, neuron_2=2, score=0.763, total=   0.8s\n",
      "[CV] neuron_1=18, neuron_2=2 .........................................\n",
      "[CV] ............. neuron_1=18, neuron_2=2, score=0.748, total=   0.8s\n",
      "[CV] neuron_1=18, neuron_2=2 .........................................\n",
      "[CV] ............. neuron_1=18, neuron_2=2, score=0.815, total=   1.2s\n",
      "[CV] neuron_1=18, neuron_2=4 .........................................\n",
      "[CV] ............. neuron_1=18, neuron_2=4, score=0.710, total=   0.8s\n",
      "[CV] neuron_1=18, neuron_2=4 .........................................\n",
      "[CV] ............. neuron_1=18, neuron_2=4, score=0.710, total=   0.7s\n",
      "[CV] neuron_1=18, neuron_2=4 .........................................\n",
      "[CV] ............. neuron_1=18, neuron_2=4, score=0.823, total=   0.7s\n",
      "[CV] neuron_1=18, neuron_2=8 .........................................\n",
      "[CV] ............. neuron_1=18, neuron_2=8, score=0.756, total=   1.1s\n",
      "[CV] neuron_1=18, neuron_2=8 .........................................\n",
      "[CV] ............. neuron_1=18, neuron_2=8, score=0.771, total=   0.7s\n",
      "[CV] neuron_1=18, neuron_2=8 .........................................\n",
      "[CV] ............. neuron_1=18, neuron_2=8, score=0.715, total=   0.7s\n",
      "[CV] neuron_1=18, neuron_2=10 ........................................\n",
      "[CV] ............ neuron_1=18, neuron_2=10, score=0.298, total=   1.2s\n",
      "[CV] neuron_1=18, neuron_2=10 ........................................\n",
      "[CV] ............ neuron_1=18, neuron_2=10, score=0.763, total=   0.8s\n",
      "[CV] neuron_1=18, neuron_2=10 ........................................\n",
      "[CV] ............ neuron_1=18, neuron_2=10, score=0.785, total=   0.8s\n",
      "[CV] neuron_1=18, neuron_2=16 ........................................\n",
      "[CV] ............ neuron_1=18, neuron_2=16, score=0.740, total=   1.4s\n",
      "[CV] neuron_1=18, neuron_2=16 ........................................\n"
     ]
    },
    {
     "name": "stdout",
     "output_type": "stream",
     "text": [
      "[CV] ............ neuron_1=18, neuron_2=16, score=0.740, total=   0.8s\n",
      "[CV] neuron_1=18, neuron_2=16 ........................................\n",
      "[CV] ............ neuron_1=18, neuron_2=16, score=0.838, total=   0.8s\n",
      "[CV] neuron_1=18, neuron_2=20 ........................................\n",
      "[CV] ............ neuron_1=18, neuron_2=20, score=0.702, total=   1.2s\n",
      "[CV] neuron_1=18, neuron_2=20 ........................................\n",
      "[CV] ............ neuron_1=18, neuron_2=20, score=0.733, total=   0.9s\n",
      "[CV] neuron_1=18, neuron_2=20 ........................................\n",
      "[CV] ............ neuron_1=18, neuron_2=20, score=0.631, total=   1.3s\n",
      "[CV] neuron_1=20, neuron_2=2 .........................................\n",
      "[CV] ............. neuron_1=20, neuron_2=2, score=0.733, total=   0.9s\n",
      "[CV] neuron_1=20, neuron_2=2 .........................................\n",
      "[CV] ............. neuron_1=20, neuron_2=2, score=0.748, total=   0.8s\n",
      "[CV] neuron_1=20, neuron_2=2 .........................................\n",
      "[CV] ............. neuron_1=20, neuron_2=2, score=0.823, total=   1.1s\n",
      "[CV] neuron_1=20, neuron_2=4 .........................................\n",
      "[CV] ............. neuron_1=20, neuron_2=4, score=0.763, total=   0.8s\n",
      "[CV] neuron_1=20, neuron_2=4 .........................................\n",
      "[CV] ............. neuron_1=20, neuron_2=4, score=0.725, total=   0.8s\n",
      "[CV] neuron_1=20, neuron_2=4 .........................................\n",
      "[CV] ............. neuron_1=20, neuron_2=4, score=0.808, total=   0.8s\n",
      "[CV] neuron_1=20, neuron_2=8 .........................................\n",
      "[CV] ............. neuron_1=20, neuron_2=8, score=0.748, total=   1.1s\n",
      "[CV] neuron_1=20, neuron_2=8 .........................................\n",
      "[CV] ............. neuron_1=20, neuron_2=8, score=0.427, total=   0.7s\n",
      "[CV] neuron_1=20, neuron_2=8 .........................................\n",
      "[CV] ............. neuron_1=20, neuron_2=8, score=0.777, total=   0.9s\n",
      "[CV] neuron_1=20, neuron_2=10 ........................................\n",
      "[CV] ............ neuron_1=20, neuron_2=10, score=0.740, total=   1.2s\n",
      "[CV] neuron_1=20, neuron_2=10 ........................................\n",
      "[CV] ............ neuron_1=20, neuron_2=10, score=0.756, total=   0.8s\n",
      "[CV] neuron_1=20, neuron_2=10 ........................................\n",
      "[CV] ............ neuron_1=20, neuron_2=10, score=0.831, total=   0.8s\n",
      "[CV] neuron_1=20, neuron_2=16 ........................................\n",
      "[CV] ............ neuron_1=20, neuron_2=16, score=0.740, total=   1.1s\n",
      "[CV] neuron_1=20, neuron_2=16 ........................................\n",
      "[CV] ............ neuron_1=20, neuron_2=16, score=0.710, total=   0.8s\n",
      "[CV] neuron_1=20, neuron_2=16 ........................................\n",
      "[CV] ............ neuron_1=20, neuron_2=16, score=0.831, total=   0.7s\n",
      "[CV] neuron_1=20, neuron_2=20 ........................................\n",
      "[CV] ............ neuron_1=20, neuron_2=20, score=0.725, total=   1.1s\n",
      "[CV] neuron_1=20, neuron_2=20 ........................................\n",
      "[CV] ............ neuron_1=20, neuron_2=20, score=0.725, total=   0.7s\n",
      "[CV] neuron_1=20, neuron_2=20 ........................................\n",
      "[CV] ............ neuron_1=20, neuron_2=20, score=0.792, total=   1.1s\n",
      "[CV] neuron_1=30, neuron_2=2 .........................................\n",
      "[CV] ............. neuron_1=30, neuron_2=2, score=0.763, total=   0.7s\n",
      "[CV] neuron_1=30, neuron_2=2 .........................................\n",
      "[CV] ............. neuron_1=30, neuron_2=2, score=0.756, total=   0.8s\n",
      "[CV] neuron_1=30, neuron_2=2 .........................................\n",
      "[CV] ............. neuron_1=30, neuron_2=2, score=0.831, total=   1.1s\n",
      "[CV] neuron_1=30, neuron_2=4 .........................................\n",
      "[CV] ............. neuron_1=30, neuron_2=4, score=0.718, total=   0.8s\n",
      "[CV] neuron_1=30, neuron_2=4 .........................................\n",
      "[CV] ............. neuron_1=30, neuron_2=4, score=0.748, total=   0.8s\n",
      "[CV] neuron_1=30, neuron_2=4 .........................................\n",
      "[CV] ............. neuron_1=30, neuron_2=4, score=0.800, total=   0.9s\n",
      "[CV] neuron_1=30, neuron_2=8 .........................................\n",
      "[CV] ............. neuron_1=30, neuron_2=8, score=0.733, total=   1.2s\n",
      "[CV] neuron_1=30, neuron_2=8 .........................................\n",
      "[CV] ............. neuron_1=30, neuron_2=8, score=0.756, total=   0.7s\n",
      "[CV] neuron_1=30, neuron_2=8 .........................................\n",
      "[CV] ............. neuron_1=30, neuron_2=8, score=0.808, total=   0.8s\n",
      "[CV] neuron_1=30, neuron_2=10 ........................................\n",
      "[CV] ............ neuron_1=30, neuron_2=10, score=0.725, total=   1.1s\n",
      "[CV] neuron_1=30, neuron_2=10 ........................................\n",
      "[CV] ............ neuron_1=30, neuron_2=10, score=0.756, total=   0.7s\n",
      "[CV] neuron_1=30, neuron_2=10 ........................................\n",
      "[CV] ............ neuron_1=30, neuron_2=10, score=0.823, total=   0.7s\n",
      "[CV] neuron_1=30, neuron_2=16 ........................................\n",
      "[CV] ............ neuron_1=30, neuron_2=16, score=0.718, total=   1.1s\n",
      "[CV] neuron_1=30, neuron_2=16 ........................................\n",
      "[CV] ............ neuron_1=30, neuron_2=16, score=0.763, total=   0.7s\n",
      "[CV] neuron_1=30, neuron_2=16 ........................................\n",
      "[CV] ............ neuron_1=30, neuron_2=16, score=0.800, total=   0.7s\n",
      "[CV] neuron_1=30, neuron_2=20 ........................................\n",
      "[CV] ............ neuron_1=30, neuron_2=20, score=0.718, total=   1.1s\n",
      "[CV] neuron_1=30, neuron_2=20 ........................................\n",
      "[CV] ............ neuron_1=30, neuron_2=20, score=0.725, total=   0.9s\n",
      "[CV] neuron_1=30, neuron_2=20 ........................................\n",
      "[CV] ............ neuron_1=30, neuron_2=20, score=0.831, total=   1.2s\n"
     ]
    },
    {
     "name": "stderr",
     "output_type": "stream",
     "text": [
      "[Parallel(n_jobs=1)]: Done 108 out of 108 | elapsed:  1.5min finished\n",
      "/usr/local/lib/python3.6/dist-packages/sklearn/model_selection/_search.py:813: DeprecationWarning: The default of the `iid` parameter will change from True to False in version 0.22 and will be removed in 0.24. This will change numeric results when test-set sizes are unequal.\n",
      "  DeprecationWarning)\n"
     ]
    },
    {
     "name": "stdout",
     "output_type": "stream",
     "text": [
      "Best : 0.7882653096196602, using {'neuron_1': 8, 'neuron_2': 2} \n",
      " 0.7755102075788439 , 0.028087639779853037, {'neuron_1': 4, 'neuron_2': 2} \n",
      " 0.7627551070585543 , 0.05265361642040218, {'neuron_1': 4, 'neuron_2': 4} \n",
      " 0.7806122496115918 , 0.043633876187279215, {'neuron_1': 4, 'neuron_2': 8} \n",
      " 0.7755102087952652 , 0.04700773815104325, {'neuron_1': 4, 'neuron_2': 10} \n",
      " 0.785714285562233 , 0.026502676320717823, {'neuron_1': 4, 'neuron_2': 16} \n",
      " 0.7678571457461435 , 0.03362359043666586, {'neuron_1': 4, 'neuron_2': 20} \n",
      " 0.7882653096196602 , 0.03010204956626608, {'neuron_1': 8, 'neuron_2': 2} \n",
      " 0.7704081603763054 , 0.04305242081353973, {'neuron_1': 8, 'neuron_2': 4} \n",
      " 0.785714285562233 , 0.03234460418309621, {'neuron_1': 8, 'neuron_2': 8} \n",
      " 0.7653061265544016 , 0.027441319608590097, {'neuron_1': 8, 'neuron_2': 10} \n",
      " 0.6250000057019749 , 0.21130353989725384, {'neuron_1': 8, 'neuron_2': 16} \n",
      " 0.7806122496115918 , 0.037038369625944936, {'neuron_1': 8, 'neuron_2': 20} \n",
      " 0.7780612313321659 , 0.04648329075701387, {'neuron_1': 16, 'neuron_2': 2} \n",
      " 0.7525510245135852 , 0.009405461117859169, {'neuron_1': 16, 'neuron_2': 4} \n",
      " 0.7780612270746913 , 0.03725855923687338, {'neuron_1': 16, 'neuron_2': 8} \n",
      " 0.721938780071784 , 0.0808608432726815, {'neuron_1': 16, 'neuron_2': 10} \n",
      " 0.7168367387992995 , 0.04276158711307885, {'neuron_1': 16, 'neuron_2': 16} \n",
      " 0.6811224447221172 , 0.05166643634602591, {'neuron_1': 16, 'neuron_2': 20} \n",
      " 0.7755102072747386 , 0.02877260501268122, {'neuron_1': 18, 'neuron_2': 2} \n",
      " 0.7474489852177854 , 0.053272531709696695, {'neuron_1': 18, 'neuron_2': 4} \n",
      " 0.7474489855218907 , 0.023432555887427688, {'neuron_1': 18, 'neuron_2': 8} \n",
      " 0.6147959218645582 , 0.22481010677713634, {'neuron_1': 18, 'neuron_2': 10} \n",
      " 0.7729591877788914 , 0.04614003981324821, {'neuron_1': 18, 'neuron_2': 16} \n",
      " 0.6887755089876603 , 0.042723636873183216, {'neuron_1': 18, 'neuron_2': 20} \n",
      " 0.7678571503077235 , 0.03939442500962912, {'neuron_1': 20, 'neuron_2': 2} \n",
      " 0.765306123209243 , 0.033687612202125794, {'neuron_1': 20, 'neuron_2': 4} \n",
      " 0.6505102043097116 , 0.15844458063396746, {'neuron_1': 20, 'neuron_2': 8} \n",
      " 0.7755102106198972 , 0.039421724033373205, {'neuron_1': 20, 'neuron_2': 10} \n",
      " 0.7602040845216537 , 0.05124941086143604, {'neuron_1': 20, 'neuron_2': 16} \n",
      " 0.7474489836972587 , 0.0315986006874661, {'neuron_1': 20, 'neuron_2': 20} \n",
      " 0.783163267282807 , 0.03367864250984971, {'neuron_1': 30, 'neuron_2': 2} \n",
      " 0.7551020452258538 , 0.034000100568792026, {'neuron_1': 30, 'neuron_2': 4} \n",
      " 0.7653061311159816 , 0.0312900494760188, {'neuron_1': 30, 'neuron_2': 8} \n",
      " 0.7678571503077235 , 0.040850476185882584, {'neuron_1': 30, 'neuron_2': 10} \n",
      " 0.760204090299655 , 0.03370956828745368, {'neuron_1': 30, 'neuron_2': 16} \n",
      " 0.7576530613765424 , 0.051597672133615526, {'neuron_1': 30, 'neuron_2': 20} \n"
     ]
    }
   ],
   "source": [
    "from keras.layers import Dropout\n",
    "seed = 6\n",
    "np.random.seed(seed)\n",
    "def create_model(neuron_1, neuron_2):\n",
    "    #create model\n",
    "    model = Sequential()\n",
    "    # hidden layers\n",
    "    model.add(Dense(neuron_1, input_dim = 8, kernel_initializer= 'uniform',activation = 'linear'))\n",
    "#     model.add(Dropout(0.1))\n",
    "    model.add(Dense(neuron_2, input_dim = neuron_1, kernel_initializer= 'uniform',activation= 'linear'))\n",
    "#     model.add(Dropout(0.1))\n",
    "    # output layer\n",
    "    model.add(Dense(1, activation='sigmoid'))\n",
    "    \n",
    "    #compile the model\n",
    "    adam = Adam(lr = 0.1)\n",
    "    model.compile(loss = 'binary_crossentropy', optimizer = adam, metrics = ['accuracy'])\n",
    "    return model\n",
    "# Create the model\n",
    "keras_classifier = KerasClassifier(build_fn=create_model,batch_size = 20, epochs = 10,verbose = 0)\n",
    "\n",
    "# Define the grid search parameter\n",
    "neuron_1 = [4, 8, 16, 18, 20, 30]\n",
    "neuron_2 = [2, 4, 8, 10, 16, 20]\n",
    "\n",
    "# Make a dict\n",
    "param_grid = dict(neuron_1 = neuron_1, neuron_2 = neuron_2)\n",
    "\n",
    "# Build and fit the grid search \n",
    "grid = GridSearchCV(estimator = keras_classifier, param_grid = param_grid,\n",
    "                    cv = KFold(random_state = seed),\n",
    "                    refit = True,\n",
    "                    verbose = 10)\n",
    "grid_result = grid.fit(X_standardized, Y)\n",
    "\n",
    "# Summarize the results \n",
    "print('Best : {0}, using {1} '.format(grid_result.best_score_, grid_result.best_params_))\n",
    "\n",
    "means = grid_result.cv_results_['mean_test_score']\n",
    "stds = grid_result.cv_results_['std_test_score']\n",
    "params = grid_result.cv_results_['params']\n",
    "\n",
    "for mean, std, param in zip(means, stds, params):\n",
    "    print(' {0} , {1}, {2} '.format(mean, std, param))\n"
   ]
  },
  {
   "cell_type": "code",
   "execution_count": null,
   "metadata": {},
   "outputs": [],
   "source": []
  }
 ],
 "metadata": {
  "kernelspec": {
   "display_name": "Python 3",
   "language": "python",
   "name": "python3"
  },
  "language_info": {
   "codemirror_mode": {
    "name": "ipython",
    "version": 3
   },
   "file_extension": ".py",
   "mimetype": "text/x-python",
   "name": "python",
   "nbconvert_exporter": "python",
   "pygments_lexer": "ipython3",
   "version": "3.6.8"
  }
 },
 "nbformat": 4,
 "nbformat_minor": 2
}
